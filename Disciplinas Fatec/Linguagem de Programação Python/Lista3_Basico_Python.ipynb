{
  "nbformat": 4,
  "nbformat_minor": 0,
  "metadata": {
    "colab": {
      "name": "Lista3 Basico - Python.ipynb",
      "provenance": [],
      "collapsed_sections": []
    },
    "kernelspec": {
      "name": "python3",
      "display_name": "Python 3"
    },
    "language_info": {
      "name": "python"
    }
  },
  "cells": [
    {
      "cell_type": "markdown",
      "source": [
        "# Lista de Exercícios 2 - Básico\n",
        "Disciplina Linguagens de Programação - Python"
      ],
      "metadata": {
        "id": "sX-eZA7LBCpB"
      }
    },
    {
      "cell_type": "markdown",
      "source": [
        "Esta lista de exercícios tem estes objetivos: <br>\n",
        "(i) fixação dos conceitos associados à entrada e saída; <br>\n",
        "(ii) definição de variáveis e realização de cálculos com expressões; <br>\n",
        "(iii) uso de repetição e de decisão; <br>\n",
        "(iv) sequenciação de comandos para resolução de problemas; <br>\n",
        "(v) modularização por meio da criação de funções."
      ],
      "metadata": {
        "id": "A0M3UJUiBEma"
      }
    },
    {
      "cell_type": "markdown",
      "source": [
        "1) Construa uma função Python que permita a leitura de um valor inteiro, garantindo que esteja numa faixa de valores limitada por um mínimo e um máximo (inclusos na faixa) indicada como seus argumentos. Escreva um programa que use esta função para ler valores entre 1 e 5."
      ],
      "metadata": {
        "id": "jhzj3IiuBROx"
      }
    },
    {
      "cell_type": "code",
      "execution_count": 10,
      "metadata": {
        "id": "4i8PVVFMA8sY"
      },
      "outputs": [],
      "source": [
        "min = 1\n",
        "max = 5\n",
        "\n",
        "def leitura_inteiro(min,max):\n",
        "  \n",
        "  if inteiro >= min and inteiro <= max:\n",
        "    print('Entrada válida! Parabéns')\n",
        "  else:\n",
        "    print('Entrada inválida!\\n Digite o número novamente')\n",
        "  return "
      ]
    },
    {
      "cell_type": "code",
      "source": [
        "inteiro = int(input('Digite um número '))\n",
        "\n",
        "leitura_inteiro(min,max)"
      ],
      "metadata": {
        "colab": {
          "base_uri": "https://localhost:8080/"
        },
        "id": "ISA-hIrQBtY4",
        "outputId": "9d139e5f-de28-47b4-9c1f-55f3092c8e1c"
      },
      "execution_count": 11,
      "outputs": [
        {
          "output_type": "stream",
          "name": "stdout",
          "text": [
            "Digite um número 6\n",
            "Entrada inválida!\n",
            " Digite o número novamente\n"
          ]
        }
      ]
    },
    {
      "cell_type": "markdown",
      "source": [
        "2) Construa um programa Python receba um número inteiro, determinando se o valor é par ou não com o uso de uma função ePar(n) que retorne False ou True."
      ],
      "metadata": {
        "id": "G-iEDKWaBTp4"
      }
    },
    {
      "cell_type": "code",
      "source": [
        "def ePar(numero):\n",
        "  \n",
        "  if numero % 2 == 0:\n",
        "    print('O número é par')\n",
        "  else:\n",
        "    print('o número é ímpar')\n",
        "  return"
      ],
      "metadata": {
        "id": "RELh4GuVBWQh"
      },
      "execution_count": 13,
      "outputs": []
    },
    {
      "cell_type": "code",
      "source": [
        "numero = int(input('Digite um número: '))\n",
        "\n",
        "ePar(numero)"
      ],
      "metadata": {
        "colab": {
          "base_uri": "https://localhost:8080/"
        },
        "id": "aIlUzdgOB1si",
        "outputId": "9f1ae681-8b21-4f02-9525-adf635600a82"
      },
      "execution_count": 14,
      "outputs": [
        {
          "output_type": "stream",
          "name": "stdout",
          "text": [
            "Digite um número: 5\n",
            "o número é ímpar\n"
          ]
        }
      ]
    },
    {
      "cell_type": "markdown",
      "source": [
        "3) Construa um programa Python receba um número inteiro, determinando se o valor é par ou não com o uso de uma função ePrimo(n) que retorne False ou True. Os números primos são aqueles que só podem ser divisíveis por 1 e por eles mesmos. Você pode considerar o número 1 como primo. Se a função receber números menores do que 1, deve retornar o valor None."
      ],
      "metadata": {
        "id": "zCiGWY5XBWtC"
      }
    },
    {
      "cell_type": "code",
      "source": [
        "def ePrimo(numero):\n",
        "  \n",
        "  if numero >= 1:\n",
        "\n",
        "    for contador in range(2,numero):\n",
        "        if numero % contador == 0:\n",
        "          return False\n",
        "    return True   \n",
        "\n",
        "  else:\n",
        "    print('Entrada inválida. Digite um número maior que zero')"
      ],
      "metadata": {
        "id": "Tb8xEOHwBZaT"
      },
      "execution_count": 17,
      "outputs": []
    },
    {
      "cell_type": "code",
      "source": [
        "numero = (int(input('Digite um número: ')))\n",
        "\n",
        "resultado = ePrimo(numero)\n",
        "\n",
        "if resultado is True:\n",
        "    print('O número inserido é primo')\n",
        "else:\n",
        "  if resultado is False:\n",
        "    print('O número inserido não é primo')\n",
        "  else:\n",
        "    print('Fim do Programa')"
      ],
      "metadata": {
        "colab": {
          "base_uri": "https://localhost:8080/"
        },
        "id": "NNZcD4r7CnpJ",
        "outputId": "1d9e8b49-c6d3-4316-cb1c-c4028c485ab9"
      },
      "execution_count": 20,
      "outputs": [
        {
          "output_type": "stream",
          "name": "stdout",
          "text": [
            "Digite um número: 0\n",
            "Entrada inválida. Digite um número maior que zero\n",
            "Fim do Programa\n"
          ]
        }
      ]
    },
    {
      "cell_type": "markdown",
      "source": [
        "4) Construa um programa Python receba um número inteiro, determinando a soma de 0 até tal número (incluso) por meio de uma função soma(n) que retorne tal soma."
      ],
      "metadata": {
        "id": "nvIbsXmOBZ9B"
      }
    },
    {
      "cell_type": "code",
      "source": [
        "resultado_s = 0\n",
        "\n",
        "def soma(num):\n",
        "  for i in range(1,num+1):\n",
        "      global resultado_s\n",
        "      resultado_s += i\n",
        "    \n",
        "  return resultado_s\n",
        "\n",
        "num = int(input('Digite um número: '))\n",
        "print('A soma do número inserido é igual a', soma(num))"
      ],
      "metadata": {
        "colab": {
          "base_uri": "https://localhost:8080/"
        },
        "id": "THj2IurJBb_K",
        "outputId": "2ccf17b7-3fe2-446d-c85d-34a99a5e0b97"
      },
      "execution_count": 21,
      "outputs": [
        {
          "output_type": "stream",
          "name": "stdout",
          "text": [
            "Digite um número: 2\n",
            "A soma do número inserido é igual a 3\n"
          ]
        }
      ]
    },
    {
      "cell_type": "markdown",
      "source": [
        "5) Construa um programa que receba três números reais, considerando que estes valores são os coeficientes a, b e c de uma equação de 2º grau. Crie uma função delta(a,b,c) que calcule o delta da equação (= b² - 4ac). Crie outra função temRaizes(a,b,c), que receba os coeficientes e utilize a função delta(a,b,c) para determinar se equação possui raízes, retornando 2, se possui duas raízes, 1 se possui raízes iguais e 0 se não possui raízes reais. O programa deve exibir todas estas informações no console."
      ],
      "metadata": {
        "id": "1GC7zIN0BcZZ"
      }
    },
    {
      "cell_type": "code",
      "source": [
        "def calcular_delta(a,b,c):\n",
        "  delta = b ** 2 - 4 * a * c\n",
        "\n",
        "  return delta\n",
        "\n",
        "def temRaizes(a, b, c):\n",
        "  d = calcular_delta(a, b, c)\n",
        "  if d < 0:\n",
        "    return 0\n",
        "  elif d == 0:\n",
        "    return 1\n",
        "  else:\n",
        "    return 2\n",
        "\n",
        "a = int(input('Digite um número real: '))\n",
        "b = int(input('Digite um número real: '))\n",
        "c = int(input('Digite um número real: '))\n",
        "\n",
        "if a != 0:\n",
        "    print('∆ =', calcular_delta(a, b, c))\n",
        "    raizes = temRaizes(a, b, c)\n",
        "    if raizes == 0:\n",
        "        print('Esta função não tem raizes reais.')\n",
        "    elif raizes == 1:\n",
        "        print('Esta função tem duas raizes reais iguais.')\n",
        "    else:\n",
        "        print('Esta função tem duas raizes reais distintas.')        \n",
        "else:\n",
        "    print('Não é uma função de 2o grau, pois a=0')\n"
      ],
      "metadata": {
        "colab": {
          "base_uri": "https://localhost:8080/"
        },
        "id": "B0V1BAGwBeyy",
        "outputId": "ae7002f2-4b9c-4b5f-e4b8-35caf17c894f"
      },
      "execution_count": 37,
      "outputs": [
        {
          "output_type": "stream",
          "name": "stdout",
          "text": [
            "Digite um número real: 1\n",
            "Digite um número real: 2\n",
            "Digite um número real: 1\n",
            "∆ = 0\n",
            "Esta função tem duas raizes reais iguais.\n"
          ]
        }
      ]
    },
    {
      "cell_type": "markdown",
      "source": [
        "6) Construa uma função Python que permita a leitura de um real, garantindo que esteja numa faixa de valores limitada por um mínimo e um máximo (inclusos na faixa) indicada como seus argumentos. A função também deve receber, opcionalmente, um parâmetro com o número máximo de tentativas, cujo padrão é 3. Se o usuário não fornecer um valor correto neste número de tentativas a função deve retornar None. Escreva um programa que use esta função para ler valores reais entre 0 e 10 em duas, três e quatro tentativas."
      ],
      "metadata": {
        "id": "2ylQu9SUBfI6"
      }
    },
    {
      "cell_type": "code",
      "source": [
        "def lerReal(minimo, maximo, prompt='Digite um valor real', tentativas=3):\n",
        "\n",
        "    if minimo >= maximo:\n",
        "        return None\n",
        "    leituras = 0;\n",
        "    while leituras < tentativas:\n",
        "        valor = float(input(prompt + f' [De {minimo} até {maximo}]? '))\n",
        "        if minimo <= valor and valor <= maximo:\n",
        "            return valor\n",
        "        leituras -= 1\n",
        "        print('Valor inválido!')\n",
        "    return None"
      ],
      "metadata": {
        "id": "Bs_N_GZ8Bhlb"
      },
      "execution_count": 47,
      "outputs": []
    },
    {
      "cell_type": "code",
      "source": [
        "v = lerReal(0, 10, tentativas=2)\n",
        "print('Primeiro Valor lido:', v)\n",
        "\n",
        "v = lerReal(0, 10, prompt='Outro valor real')\n",
        "print('Segundo Valor lido:', v)\n",
        "\n",
        "v = lerReal(0, 10, prompt='Mais um valor real', tentativas=4)\n",
        "print('Terceiro Valor lido:', v)  "
      ],
      "metadata": {
        "colab": {
          "base_uri": "https://localhost:8080/"
        },
        "id": "mz-JAJggGcxC",
        "outputId": "a627ee9a-630c-4213-8db8-b9deed72b4d7"
      },
      "execution_count": 50,
      "outputs": [
        {
          "output_type": "stream",
          "name": "stdout",
          "text": [
            "Digite um valor real [De 0 até 10]? -1\n",
            "Valor inválido!\n",
            "Digite um valor real [De 0 até 10]? 2\n",
            "Primeiro Valor lido: 2.0\n",
            "Outro valor real [De 0 até 10]? 20\n",
            "Valor inválido!\n",
            "Outro valor real [De 0 até 10]? 1\n",
            "Segundo Valor lido: 1.0\n",
            "Mais um valor real [De 0 até 10]? 2\n",
            "Terceiro Valor lido: 2.0\n"
          ]
        }
      ]
    },
    {
      "cell_type": "markdown",
      "source": [
        "7) Escreva um programa que leia um número inteiro (na base 10) convertendo-o para seu equivalente em binário (base 2) por meio de uma função dec2bin(n)."
      ],
      "metadata": {
        "id": "_xD7cMIXBiKJ"
      }
    },
    {
      "cell_type": "code",
      "source": [
        "numero = int(input('Digite um número inteiro decimal: '))\n",
        "\n",
        "def dec_to_bin(x):\n",
        "    return int(bin(x)[2:])\n",
        "\n",
        "resultado = dec_to_bin(numero)\n",
        "\n",
        "print('O número decimal', numero, 'é em binário', dec_to_bin(numero)) "
      ],
      "metadata": {
        "colab": {
          "base_uri": "https://localhost:8080/"
        },
        "id": "g1CebjqzBkJ6",
        "outputId": "7c97ab4a-6706-484f-9d34-df75e8e4bf67"
      },
      "execution_count": 38,
      "outputs": [
        {
          "output_type": "stream",
          "name": "stdout",
          "text": [
            "Digite um número inteiro decimal: 12\n",
            "O número decimal 12 é em binário 1100\n"
          ]
        }
      ]
    },
    {
      "cell_type": "code",
      "source": [
        ""
      ],
      "metadata": {
        "id": "DSQCE8-fBnAy"
      },
      "execution_count": null,
      "outputs": []
    }
  ]
}