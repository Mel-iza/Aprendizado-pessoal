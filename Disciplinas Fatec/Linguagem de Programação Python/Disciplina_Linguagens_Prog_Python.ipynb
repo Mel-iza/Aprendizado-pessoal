{
  "nbformat": 4,
  "nbformat_minor": 0,
  "metadata": {
    "colab": {
      "name": "Disciplina_Linguagens_Prog_Python.ipynb",
      "provenance": [],
      "collapsed_sections": [
        "Mr8abq_ld2Cn"
      ]
    },
    "kernelspec": {
      "display_name": "Python 3",
      "name": "python3"
    },
    "language_info": {
      "name": "python"
    }
  },
  "cells": [
    {
      "cell_type": "markdown",
      "metadata": {
        "id": "5KNuNDabcTlG"
      },
      "source": [
        "# Disciplina Linguagens de Programação - Python <br>\n",
        "Professor Peter <br>\n",
        "**Fatec**"
      ]
    },
    {
      "cell_type": "code",
      "metadata": {
        "id": "MelQD447TUrg"
      },
      "source": [
        ""
      ],
      "execution_count": null,
      "outputs": []
    },
    {
      "cell_type": "markdown",
      "metadata": {
        "id": "Mr8abq_ld2Cn"
      },
      "source": [
        "# Lista de Exercícios 1 <br>\n",
        "\n",
        "**Oficina de Python 1 (básico) <br>\n",
        "Lista de Exercícios UM** <br>\n",
        "Esta lista de exercícios tem estes objetivos:<br>\n",
        "(i) *fixação dos conceitos associados à entrada e saída;<br>\n",
        "(ii) *definição de variáveis e realização de cálculos com expressões;<br>\n",
        "(iii) *sequenciação de comandos para resolução de problemas*.<br>\n",
        "\n",
        "1. Construa um programa Python que defina variáveis para armazenar seu nome, sua\n",
        "idade e a cidade onde mora. Os valores das variáveis podem ser diretamente\n",
        "indicados (não é necessário realizada a entrada destes dados). Imprima no console o conteúdo destas variáveis.\n",
        "\n",
        "2. Modifique o programa (1) para que sejam lidos seu nome, sua idade e a cidade onde mora. Imprima no console o conteúdo destas variáveis.\n",
        "\n",
        "3. Construa um programa Python receba (leia) dois números inteiros x e y,\n",
        "apresentando sua soma x+y, subtração x-y, multiplicação x*y, divisão x/y, divisão inteira x//y e exponenciação x**y. Ou seja, imprimindo os valores lidos e os resultados destas operações no console.\n",
        "\n",
        "4. Escreva um programa que leia um valor numérico real que representa uma\n",
        "temperatura na escala Celsius. O programa deve converter tal valor em seu\n",
        "equivalente na escala Fahrenheit. O resultado deve ser impresso no console.\n",
        "fahrenheit = (celsius * 9)/5 + 32.\n",
        "\n",
        "5. Escreva um programa que leia um valor numérico real que representa uma distância em milhas. O programa deve converter tal valor em seu equivalente em quilômetros, sabendo que 1 mi = 1,60934 km. O resultado deve ser impresso no console.\n",
        "\n",
        "6. Construa um programa que receba (leia) três números reais, considerando que estes três valores são os coeficientes a, b e c de uma equação de 2º grau. Calcule o delta (=b² - 4*a*c) e exiba seu valor no console.\n",
        "\n",
        "7. Escreva um programa que leia o preço do litro do etanol e, também, o preço do litro da gasolina comum. Exiba, no console, quanto seria gasto para encher um tanque de 50 litros com cada combustível; qual o valor relativo do etanol em relação à gasolina (precoEtanol / precoGasolina); e quantos litros de etanol podem ser comprados com o preço de um litro de gasolina comum.\n",
        "\n",
        "8. Pretendemos revestir um salão retangular com um piso cerâmico, cujas peças têm o mesmo tamanho e que podem ser assentadas lado a lado (sem espaço entre as\n",
        "peças). Desejamos saber quantas peças de piso deverão ser compradas. Escreva um\n",
        "programa que leia as dimensões comprimento e largura do salão retangular (valores reais expressos em metros); e o comprimento e largura da cerâmica a ser\n",
        "empregada (valores inteiros em milimetros), informando o número de peças\n",
        "requeridas para cobrir o comprimento do salão, o número de peças requeridas para\n",
        "cobrir a largura do salão; e o número total de peças necessárias.\n"
      ]
    },
    {
      "cell_type": "code",
      "metadata": {
        "id": "GPTpiKu0cMfJ"
      },
      "source": [
        "# Exercicio 1\n",
        "\n",
        "nome = \"Mel\"\n",
        "idade = 26\n",
        "cidade = \"Jundiaí\"\n",
        "\n",
        "print(nome,idade, cidade)"
      ],
      "execution_count": null,
      "outputs": []
    },
    {
      "cell_type": "code",
      "metadata": {
        "id": "7bj10EpDe24x"
      },
      "source": [
        "# Exercicio 2\n",
        "\n",
        "nome = input(\"Digite seu nome \")\n",
        "idade = input(\"Digite sua idade \")\n",
        "cidade = input(\"Digite sua cidade \")"
      ],
      "execution_count": null,
      "outputs": []
    },
    {
      "cell_type": "code",
      "metadata": {
        "id": "WRzmq_9Ffnnm"
      },
      "source": [
        "print(\"Olá \" + nome + \"! Tudo bem com você?\")\n",
        "print(\"Eu sou um robô e estou aqui para tirar suas dúvidas\")\n",
        "print(\"Acessei nosso banco de dados e vi que você é de \" + cidade + \n",
        "                                                \" e tem \" + idade + \" anos\")\n",
        "print(\"Essas informações estão corretas?\")\n",
        "decisao = input(\"Se sim, digite 1. Se não, digte 2\")\n",
        "decisao"
      ],
      "execution_count": null,
      "outputs": []
    },
    {
      "cell_type": "code",
      "metadata": {
        "id": "VUCrPhTkgs04"
      },
      "source": [
        "# Exercicio 3\n",
        "x = int(input(\"Digite um numero inteiro \"))\n",
        "y = int(input(\"Digite outro número inteiro \"))\n",
        "\n",
        "soma = (x + y)\n",
        "subtracao = (x - y) \n",
        "multiplicacao = (x * y)\n",
        "divisao = (x / y) \n",
        "divisao_int = (x // y) \n",
        "exponenciacao = (x ** y)"
      ],
      "execution_count": null,
      "outputs": []
    },
    {
      "cell_type": "code",
      "metadata": {
        "id": "cXMPqbOGjuTm"
      },
      "source": [
        "print(\"As operações básicas entre o número \", x , \" e o número \", y ,\" são:\")\n",
        "print(x, \" + \", y ,\" = \", soma)\n",
        "print(x, \" - \" , y , \" = \", subtracao)\n",
        "print(x, \" x \" , y , \" = \", multiplicacao)\n",
        "print(x, \" / \" , y , \" = \", divisao)\n",
        "print(x, \" / \" , y , \" = \", divisao_int)\n",
        "print(x, \" elevado a\" , y , \" = \", exponenciacao)"
      ],
      "execution_count": null,
      "outputs": []
    },
    {
      "cell_type": "code",
      "metadata": {
        "id": "Sz5gMqItlRZX"
      },
      "source": [
        "# Exercicio 4\n",
        "\n",
        "celsius = float(input(\"Digite uma temperaura em graus Celsius\")) \n",
        "\n",
        "fahrenheit = ((celsius * 9)/5 + 32)\n",
        "\n",
        "print(\"A temperatura de\", celsius, \"° em Fahrenheit é igual a \", fahrenheit)"
      ],
      "execution_count": null,
      "outputs": []
    },
    {
      "cell_type": "code",
      "metadata": {
        "id": "JKMKNTvD17KH"
      },
      "source": [
        "# Exercicio 5\n",
        "\n",
        " # Entrada de dados \n",
        "milhas = float(input(\"Digite uma distância em milhas \"))\n",
        "\n",
        " # Processamento \n",
        "kilometros = (milhas * 1.60934)\n",
        "\n",
        "# Saída de dados\n",
        "print (milhas, \"milhas é igual a\", kilometros, \"kilômetros\")"
      ],
      "execution_count": null,
      "outputs": []
    },
    {
      "cell_type": "code",
      "metadata": {
        "id": "eNCwRvYgL_Ww"
      },
      "source": [
        "# Exercicio 6 / Construa um programa que receba (leia) três números reais, \n",
        "#considerando que estes três valores são os coeficientes a, b e c de uma equação\n",
        "# de 2º grau. Calcule o delta (=b² - 4ac) e exiba seu valor no console.\n",
        "\n",
        "# Entrada de dados\n",
        "a = float(input(\"Digite o primeiro coeficiente da equação: \"))\n",
        "b= float(input(\"Digite o segundo coeficiente da equação: \"))\n",
        "c = float(input(\"Digite o terceiro coeficiente da equação: \"))\n",
        "x = float(input(\"Digite um valor para x\"))\n",
        "\n",
        "#Processamento\n",
        "#equacao = (a * (x ** 2) + b * x + c) == 0\n",
        "#delta = ((b ** 2) - 4 * a * c)\n",
        "\n",
        "while a and b and c != 0: \n",
        "  bhaskara = (a * (x ** 2) + b * x + c)\n",
        "  delta = ((b ** 2) - 4 * a * c)\n",
        "\n",
        "  #calcular o delta e verficicar numero de raízes\n",
        "  if delta > 0:\n",
        "    raiz1, raiz2\n",
        "    delta\n",
        "    print(\"O delta possui duas raízes reais\")\n",
        "  else:\n",
        "    if delta < 0:\n",
        "      print(\"A equação não possui raízes reais\")\n",
        "else:\n",
        "    if delta == 0:\n",
        "      print(\"A equação possui somente uma raiz\")\n",
        "\n",
        "\n",
        "print(\"O resultado da equação é\", baskhara)\n",
        "print(\"O valor de delta é \", delta)"
      ],
      "execution_count": null,
      "outputs": []
    },
    {
      "cell_type": "code",
      "metadata": {
        "id": "lDFY_F91YK8v"
      },
      "source": [
        "# Entrada de dados\n",
        "a = float(input(\"Digite o primeiro coeficiente da equação: \"))\n",
        "b= float(input(\"Digite o segundo coeficiente da equação: \"))\n",
        "c = float(input(\"Digite o terceiro coeficiente da equação: \"))\n",
        "\n",
        "delta = ((b ** 2) - 4 * a * c)\n",
        "\n",
        "print(\"O valor de delta é\", delta)\n"
      ],
      "execution_count": null,
      "outputs": []
    },
    {
      "cell_type": "code",
      "metadata": {
        "id": "w_2-_4tVYukY"
      },
      "source": [
        "# Exerccio 7 | Escreva um programa que leia o preço do litro do etanol e, também,\n",
        "# o preço do litro da gasolina comum. Exiba, no console, quanto seria gasto para \n",
        "# encher um tanque de 50 litros com cada combustível; qual o valor relativo do etanol \n",
        "# em relação à gasolina (precoEtanol / precoGasolina); e quantos litros de etanol \n",
        "# podem ser comprados com o preço de um litro de gasolina comum.\n",
        "\n",
        "etanol = float(input(\"Qual o preço do litro do etanol? \"))\n",
        "gasolina_comum = float(input(\"Qual o preço do litro da gasolina? \"))\n",
        "\n",
        "preco_et = etanol * 50\n",
        "preco_gas = gasolina_comum * 50\n",
        "\n",
        "print(\"Para encher um tanque de 50 litros com etanol você iria gastar R$\", \n",
        "                                                                  preco_et)\n",
        "print(\"Para encher um tanque de 50 litros com gasolina você iria gastar R$\", \n",
        "                                                                  preco_gas)\n",
        "\n",
        "print(\"O valor relativo do etanol em relação à gasolina é\", preco_et/preco_gas)\n",
        "\n",
        "\n",
        "\n"
      ],
      "execution_count": null,
      "outputs": []
    },
    {
      "cell_type": "code",
      "metadata": {
        "id": "q34SV28Wpku-"
      },
      "source": [
        "# Exercício 8 | Pretendemos revestir um salão retangular com um piso cerâmico, cujas peças têm o \n",
        "# mesmo tamanho e que podem ser assentadas lado a lado (sem espaço entre as peças). \n",
        "# Desejamos saber quantas peças de piso deverão ser compradas. Escreva um programa \n",
        "# que leia as dimensões comprimento e largura do salão retangular (valores reais \n",
        "# expressos em metros); e o comprimento e largura da cerâmica a ser empregada \n",
        "# (valores inteiros em milimetros), informando o número de peças requeridas para \n",
        "# cobrir o comprimento do salão, o número de peças requeridas para cobrir a \n",
        "# largura do salão; e o número total de peças necessárias.\n",
        "\n",
        "comprimento_salao = (input(\"Digite o comprimento do salão retangular \"))\n",
        "largura_salao = (input(\"Digite a largura do salão retangular \"))\n",
        "\n",
        "comprimento_ceramica = (input(\"Digite o comprimento da cerâmica - em milímetros \"))\n",
        "largura_ceremica = (input(\"Digite a largura da cerâmica - em milímetros \"))"
      ],
      "execution_count": null,
      "outputs": []
    },
    {
      "cell_type": "code",
      "metadata": {
        "id": "mUW1Ohk4UBMj"
      },
      "source": [
        "# Processamento de dados\n",
        "# Retornar: \n",
        "# número de peças requeridas para cobrir o comprimento do salão;\n",
        "# número de peças requeridas para cobrir a largura do salão;\n",
        "# número total de peças necessárias.\n",
        "\n"
      ],
      "execution_count": null,
      "outputs": []
    },
    {
      "cell_type": "markdown",
      "metadata": {
        "id": "nhgJBgyTqA9o"
      },
      "source": [
        "# Lista de Exercícios 2\n",
        "\n",
        "**Oficina de Python 1 (básico)**<br>\n",
        "**Lista de Exercícios DOIS**<br>\n",
        "Esta lista de exercícios tem estes objetivos:<br>\n",
        "(i) *fixação dos conceitos associados à entrada e saída;*<br>\n",
        "(ii) *definição de variáveis e realização de cálculos com expressões;*<br>\n",
        "(iii) *uso de repetição e de decisão;*<br>\n",
        "(iv) *sequenciação de comandos para resolução de problemas.*<br>\n",
        "\n",
        "1. Construa um programa Python que apresente a tabuada de um número inteiro n\n",
        "fornecido pelo usuário. A tabuada deve ser apresentada como segue, imaginando\n",
        "que o usuário digitou o número 11:\n",
        "11 x 0 = 0\n",
        "11 x 1 = 11\n",
        "11 x 2 = 22\n",
        ":\n",
        "11 x 10 = 110\n",
        "2. Escreva um programa Python que leia números reais fornecidos pelo usuário até que\n",
        "sua soma seja 100 ou mais. Então o programa deve apresentar a quantidade de\n",
        "números fornecidos e sua média aritmética simples.\n",
        "3. Construa um programa Python receba um número inteiro indicando se ele é par ou\n",
        "não.\n",
        "4. Construa um programa Python receba um número inteiro indicando se ele é primo\n",
        "ou não. Os números primos são aqueles que só podem ser divisíveis por 1 e por eles\n",
        "mesmos. Você pode considerar o número 1 como primo. Se o usuário fornecer um\n",
        "número menor do que 1, o programa deve exibir um aviso e ser encerrado.\n",
        "5. Escreva um programa que leia vários números reais, positivos ou negativos, até que\n",
        "o usuário digite o valor 0. Então o programa deve: apresentar a quantidade de\n",
        "números positivos fornecidos, a quantidade de números negativos fornecidos, a\n",
        "soma dos números positivos, a soma dos números negativos, a média dos números\n",
        "positivos e a média dos números negativos.\n",
        "6. Construa um programa que receba (leia) dois números reais, considerando que estes\n",
        "valores são os coeficientes a e b de uma equação de 1º grau. Monte uma tabela com\n",
        "os resultados de x = a*x + b para os valores de x de -5.0 a +5.0, com x variando de 0.5\n",
        "e, 0.5.\n",
        "7. Construa um programa que receba (leia) três números reais, considerando que estes\n",
        "três valores são os coeficientes a, b e c de uma equação de 2º grau. Calcule o delta (=\n",
        "b² - 4*a*c) e as raízes desta equação, exibindo estas informações no console.\n",
        "8. Escreva um programa que leia um número inteiro (naturalmente na base 10)\n",
        "convertendo-o para seu equivalente em binário (base 2)."
      ]
    },
    {
      "cell_type": "code",
      "metadata": {
        "id": "keOokcFrtc-2"
      },
      "source": [
        "# 1) Construa um programa Python que apresente a tabuada de um número inteiro n \n",
        "# fornecido pelo usuário. A tabuada deve ser apresentada como segue, imaginando\n",
        "# que o usuário digitou o número 11: 11 x 0 = 0 11 x 1 = 11 11 x 2 = 22 : 11 x 10 = 110\n",
        "\n",
        "n = int(input('Digite um número para saber a tabuada dele '))\n",
        "print('O tabuada será do', n)\n",
        "\n",
        "for contador in range (0,11):\n",
        "  print(contador,'x', n, ' = ', contador * n)"
      ],
      "execution_count": null,
      "outputs": []
    },
    {
      "cell_type": "code",
      "metadata": {
        "id": "NWVOhFs1P2k5"
      },
      "source": [
        "# 2) Escreva um programa Python que leia números reais fornecidos pelo usuário até\n",
        "# que sua soma seja 100 ou mais. Então o programa deve apresentar a quantidade\n",
        "# de números fornecidos e sua média aritmética simples.\n",
        "\n",
        "soma = 0\n",
        "contador = 0\n",
        "valor = 0\n",
        "\n",
        "while soma < 100:\n",
        "  valor = int(input('Digite um valor: '))\n",
        "  soma += valor\n",
        "  contador += 1\n",
        "  media = soma/contador\n",
        "\n",
        "print('---' * 20)\n",
        "print('A soma dos valores é:', soma)\n",
        "print('A média dos valores é: ', media)\n",
        "print('A quantidade de valores inseridos é:', contador)\n",
        "print('---' * 20)"
      ],
      "execution_count": null,
      "outputs": []
    },
    {
      "cell_type": "code",
      "metadata": {
        "id": "vLrG5BgsO1Wo"
      },
      "source": [
        "# 3) Construa um programa Python receba um número inteiro indicando se ele é par ou não.\n",
        "\n",
        "numero = int(input('Digite um número inteiro '))\n",
        "\n",
        "if numero%2 == 0:\n",
        "  print('O número inserido é par')\n",
        "else:\n",
        "  print('O número inserido é ímpar')"
      ],
      "execution_count": null,
      "outputs": []
    },
    {
      "cell_type": "code",
      "metadata": {
        "id": "g9lyJqTcPZn8"
      },
      "source": [
        "# 4) Construa um programa Python receba um número inteiro indicando se ele é primo ou não.\n",
        "# Os números primos são aqueles que só podem ser divisíveis por 1 e por eles mesmos.\n",
        "# Você pode considerar o número 1 como primo. Se o usuário fornecer um número \n",
        "# menor do que 1, o programa deve exibir um aviso e ser encerrado.\n",
        "\n",
        "numero = int(input('Digite um número inteiro '))\n",
        "\n",
        "if numero >= 1:\n",
        "  if numero/numero == 1 and numero/1 == numero:\n",
        "    print('O número inserido é primo')\n",
        "  else:\n",
        "    print('O número inserido não é primo')\n",
        "\n",
        "else:\n",
        "  print('Entrada inválida. Digite um número maior que zero')"
      ],
      "execution_count": null,
      "outputs": []
    },
    {
      "cell_type": "code",
      "metadata": {
        "id": "SI3y_v9DeLzR"
      },
      "source": [
        "# 5) Escreva um programa que leia vários números reais, positivos ou negativos, \n",
        "# até que o usuário digite o valor 0. Então o programa deve: apresentar a quantidade \n",
        "# de números positivos fornecidos, a quantidade de números negativos fornecidos,\n",
        "# a soma dos números positivos, a soma dos números negativos, a média dos números \n",
        "# positivos e a média dos números negativos.\n",
        "\n",
        "q_positivos = 0\n",
        "q_negativos = 0\n",
        "soma_pos = 0\n",
        "soma_neg = 0\n",
        "\n",
        "numeros = (int(input('Digite um número. Para parar o programa insira o número zero ')))\n",
        "\n",
        "while numeros != 0:\n",
        "  numeros = (int(input('Digite um número. Para parar o programa insira o número zero ')))   \n",
        "  \n",
        "  if numeros > 0:\n",
        "      q_positivos += 1\n",
        "      soma_pos += numeros \n",
        "      media_pos = soma_pos/q_positivos\n",
        "  else:\n",
        "    if numeros < 0:\n",
        "      q_negativos += 1\n",
        "      soma_neg += numeros \n",
        "      media_neg = soma_neg/q_negativos\n",
        "\n",
        "#break\n",
        "#print('fim do programa')\n",
        "print(' ')\n",
        "print('---' * 20)\n",
        "\n",
        "print('Quantidade de números positivos: ', q_positivos)\n",
        "print('Soma dos números positivos: ', soma_pos)\n",
        "print('Média dos números positivos: ', media_pos)\n",
        "\n",
        "print('---' * 20)\n",
        "\n",
        "print('Quantidade de números negativos: ', q_negativos)\n",
        "print('Soma dos números negativos: ', soma_neg)\n",
        "print('Média dos números negativos: ', media_neg)\n"
      ],
      "execution_count": null,
      "outputs": []
    },
    {
      "cell_type": "code",
      "metadata": {
        "id": "WTV0tPJeqTfY"
      },
      "source": [
        "# 6) Construa um programa que receba (leia) dois números reais, considerando que \n",
        "# estes valores são os coeficientes a e b de uma equação de 1º grau. Monte uma \n",
        "# tabela com os resultados de x = a*x + b para os valores de x de -5.0 a +5.0, \n",
        "# com x variando de 0.5 e, 0.5.\n",
        "import numpy as np \n",
        "\n",
        "a = float(input('Digite um número real: '))\n",
        "b = float(input('Digite um número real: '))\n",
        "\n",
        "for x in np.arange(-5.0, 5.0+1.0, 0.5):\n",
        "  resultado = a * x + b\n",
        "  print(' | ', a, ' x ', x, ' + ', b, ' = ', resultado)\n",
        "\n",
        " # [x / 10.0 for x in range(5, 50, 15)] \n",
        "\n",
        "  #x = a * x + b\n",
        "  #print('O resultado de', a, ' x ', x, ' + ', b, ' = ', x)"
      ],
      "execution_count": null,
      "outputs": []
    },
    {
      "cell_type": "code",
      "metadata": {
        "id": "n3ztwBkMzsvL"
      },
      "source": [
        "# Construa um programa que receba (leia) três números reais, considerando que \n",
        "# estes três valores são os coeficientes a, b e c de uma equação de 2º grau. \n",
        "# Calcule o delta (= b² - 4ac) e as raízes desta equação, exibindo estas informações no console.\n",
        "import math\n",
        "\n",
        "a = float(input('Digite um número real: '))\n",
        "b = float(input('Digite um número real: '))\n",
        "c = float(input('Digite um número real: '))\n",
        "\n",
        "delta = b ** 2 - 4 * a * c\n",
        "\n",
        "if delta < 0:\n",
        "  print(' ')\n",
        "  print('A equação não possui raízes reais')\n",
        "  print('O valor de delta é ', delta)\n",
        "\n",
        "elif delta > 0:\n",
        "  x_1 = (-b + math.pow(delta, 1/2)) / 2 * a\n",
        "  x_2 = (b + math.pow(delta, 1/2)) / 2 * a\n",
        "\n",
        "  print(' ')\n",
        "  print('A equação possui duas raízes reais')\n",
        "  print('O valor de delta é ', delta)\n",
        "  print('O valor da primeira raiz é', x_1, \n",
        "        '\\n o valor da segunda raiz é ', - x_2)\n",
        "\n",
        "else: \n",
        "  x = (b + math.pow(delta, 1/2)) / 2 * a\n",
        "\n",
        "  print(' ')\n",
        "  print('A equação possui uma raiz real')\n",
        "  print('O valor de delta é ', delta)\n",
        "  print('O valor da raiz é', x)"
      ],
      "execution_count": null,
      "outputs": []
    },
    {
      "cell_type": "code",
      "metadata": {
        "id": "2GNC8T77FEkr"
      },
      "source": [
        "# Escreva um programa que leia um número inteiro (naturalmente na base 10) convertendo-o para seu equivalente em binário (base 2).\n",
        "\n",
        "numero = int(input('Digite um número inteiro decimal: '))\n",
        "decimal =  numero/2\n",
        "binario = 0\n",
        "contador = 1\n",
        "\n",
        "while divisao != 0:\n",
        "  resto = numero % 2\n",
        "  decimal = (decimal - resto/2)\n",
        "  contador *= 10\n",
        "  binario += resto * contador\n",
        "  \n",
        "\n",
        "print('O número decimal', numero, 'é em binário', binario)"
      ],
      "execution_count": null,
      "outputs": []
    },
    {
      "cell_type": "code",
      "metadata": {
        "id": "VxVMOMjdL3p1"
      },
      "source": [
        "numero = int(input('Digite um número inteiro decimal: '))\n",
        "\n",
        "def dec_to_bin(x):\n",
        "    return int(bin(x)[2:])\n",
        "\n",
        "resultado = dec_to_bin(numero)\n",
        "\n",
        "print('O número decimal', numero, 'é em binário', resultado) "
      ],
      "execution_count": null,
      "outputs": []
    },
    {
      "cell_type": "code",
      "metadata": {
        "id": "OGjFDgABLOin"
      },
      "source": [
        "n=int(input('please enter the no. in decimal format: '))\n",
        "x=n\n",
        "k=[]\n",
        "while (n>0):\n",
        "    a=int(float(n%2))\n",
        "    k.append(a)\n",
        "    n=(n-a)/2\n",
        "k.append(0)\n",
        "string=\"\"\n",
        "for j in k[::-1]:\n",
        "    string=string+str(j)\n",
        "print('The binary no. for %d is %s'%(x, string))"
      ],
      "execution_count": null,
      "outputs": []
    },
    {
      "cell_type": "code",
      "metadata": {
        "id": "nJ171ARuLsza"
      },
      "source": [
        "def dec_to_bin(x):\n",
        "    return int(bin(x)[2:])"
      ],
      "execution_count": null,
      "outputs": []
    },
    {
      "cell_type": "code",
      "metadata": {
        "id": "sHsatgLpLyJE"
      },
      "source": [
        "dec_to_bin(23)"
      ],
      "execution_count": null,
      "outputs": []
    },
    {
      "cell_type": "markdown",
      "metadata": {
        "id": "56gdAzR_tdrV"
      },
      "source": [
        "# Lista de Exercícios 3\n",
        "\n",
        "**Oficina de Python 1 (básico)**<br>\n",
        "**Lista de Exercícios TRÊS**<br>\n",
        "Esta lista de exercícios tem estes objetivos:<br>\n",
        "(i) *fixação dos conceitos associados à entrada e saída;*<br>\n",
        "(ii) *definição de variáveis e realização de cálculos com expressões;*<br>\n",
        "(iii) *uso de repetição e de decisão;*<br>\n",
        "(iv) *sequenciação de comandos para resolução de problemas;*<br>\n",
        "(v) *modularização por meio da criação de funções*.<br>\n",
        "\n",
        "\n",
        "1. Construa uma função Python que permita a leitura de um valor inteiro, garantindo\n",
        "que esteja numa faixa de valores limitada por um mínimo e um máximo (inclusos na\n",
        "faixa) indicada como seus argumentos. Escreva um programa que use esta função\n",
        "para ler valores entre 1 e 5.\n",
        "2. Construa um programa Python receba um número inteiro, determinando se o valor é\n",
        "par ou não com o uso de uma função ePar(n) que retorne False ou True.\n",
        "3. Construa um programa Python receba um número inteiro, determinando se o valor é\n",
        "par ou não com o uso de uma função ePrimo(n) que retorne False ou True. Os\n",
        "números primos são aqueles que só podem ser divisíveis por 1 e por eles mesmos.\n",
        "Você pode considerar o número 1 como primo. Se a função receber números\n",
        "menores do que 1, deve retornar o valor None.\n",
        "4. Construa um programa Python receba um número inteiro, determinando a soma de\n",
        "0 até tal número (incluso) por meio de uma função soma(n) que retorne tal soma.\n",
        "5. Construa um programa que receba três números reais, considerando que estes\n",
        "valores são os coeficientes a, b e c de uma equação de 2º grau. Crie uma função\n",
        "delta(a,b,c) que calcule o delta da equação (= b² - 4*a*c). Crie outra função\n",
        "temRaizes(a,b,c), que receba os coeficientes e utilize a função delta(a,b,c) para\n",
        "determinar se equação possui raízes, retornando 2, se possui duas raízes, 1 se possui\n",
        "raízes iguais e 0 se não possui raízes reais. O programa deve exibir todas estas\n",
        "informações no console.\n",
        "6. Construa uma função Python que permita a leitura de um real, garantindo que esteja\n",
        "numa faixa de valores limitada por um mínimo e um máximo (inclusos na faixa)\n",
        "indicada como seus argumentos. A função também deve receber, opcionalmente,\n",
        "um parâmetro com o número máximo de tentativas, cujo padrão é 3. Se o usuário\n",
        "não fornecer um valor correto neste número de tentativas a função deve retornar\n",
        "None. Escreva um programa que use esta função para ler valores reais entre 0 e 10\n",
        "em duas, três e quatro tentativas.\n",
        "7. Escreva um programa que leia um número inteiro (na base 10) convertendo-o para\n",
        "seu equivalente em binário (base 2) por meio de uma função dec2bin(n).\n",
        "8. Escreva um programa que receba uma cadeia de caracteres (string), determinando a\n",
        "quantidade de um caractere especificado pelo usuário nesta cadeia com uso de uma\n",
        "função a ser construída. Esta função, que deve ser denominada\n",
        "contaCaracteres(cadeia,caractere), retorna 0 se o caractere não foi informado ou\n",
        "um inteiro com a contagem das ocorrências do caracteres na string.\n"
      ]
    },
    {
      "cell_type": "code",
      "metadata": {
        "id": "RoTiGYfPu51X"
      },
      "source": [
        "# 1) Construa uma função Python que permita a leitura de um valor inteiro, \n",
        "# garantindo que esteja numa faixa de valores limitada por um mínimo e um máximo\n",
        "# (inclusos na faixa) indicada como seus argumentos. Escreva um programa que use \n",
        "# esta função para ler valores entre 1 e 5.\n",
        "\n",
        "min = 1\n",
        "max = 5\n",
        "\n",
        "def leitura_inteiro(min,max):\n",
        "  inteiro = int(input('Digite um número '))\n",
        "\n",
        "  if inteiro >= min and inteiro <= max:\n",
        "    print('Entrada válida! Parabéns')\n",
        "  else:\n",
        "    print('Entrada inválida!\\n Digite o número novamente')\n",
        "  return \n",
        "\n"
      ],
      "execution_count": null,
      "outputs": []
    },
    {
      "cell_type": "code",
      "metadata": {
        "id": "ddgcPgHVL2PK"
      },
      "source": [
        "leitura_inteiro(min,max)"
      ],
      "execution_count": null,
      "outputs": []
    },
    {
      "cell_type": "code",
      "metadata": {
        "id": "NH8SBvhPOd9o"
      },
      "source": [
        "# 2) Construa um programa Python receba um número inteiro, determinando se o valor \n",
        "# é par ou não com o uso de uma função ePar(n) que retorne False ou True.\n",
        "\n",
        "def ePar(numero):\n",
        "  numero = int(input('Digite um número: '))\n",
        "  if numero%2 == 0:\n",
        "    print('O número é par')\n",
        "  else:\n",
        "    print('o número é ímpar')\n",
        "  return"
      ],
      "execution_count": null,
      "outputs": []
    },
    {
      "cell_type": "code",
      "metadata": {
        "id": "huJoETahQ2hY"
      },
      "source": [
        "ePar(numero)"
      ],
      "execution_count": null,
      "outputs": []
    },
    {
      "cell_type": "code",
      "metadata": {
        "id": "VVxy8SPQRMFD"
      },
      "source": [
        "# 3) Construa um programa Python receba um número inteiro, determinando se o valor\n",
        "# é primo ou não com o uso de uma função ePrimo(n) que retorne False ou True. \n",
        "# Os números primos são aqueles que só podem ser divisíveis por 1 e por eles mesmos.\n",
        "# Você pode considerar o número 1 como primo. Se a função receber números \n",
        "# menores do que 1, deve retornar o valor None.\n",
        "\n",
        "def ePrimo(numero):\n",
        "  numero = (int(input('Digite um número: ')))\n",
        "  if numero >= 1:\n",
        "\n",
        "    for contador in range(2,numero):\n",
        "        if numero % contador == 0:\n",
        "          return False\n",
        "    return True   \n",
        "\n",
        "  else:\n",
        "    print('Entrada inválida. Digite um número maior que zero')\n",
        "   \n"
      ],
      "execution_count": null,
      "outputs": []
    },
    {
      "cell_type": "code",
      "metadata": {
        "id": "x9xHGiYWqEji"
      },
      "source": [
        "resultado = ePrimo(numero)\n",
        "\n",
        "if resultado is True:\n",
        "    print('O número inserido é primo')\n",
        "else:\n",
        "  if resultado is False:\n",
        "    print('O número inserido não é primo')\n",
        "  else:\n",
        "    print('Fim do Programa')\n"
      ],
      "execution_count": null,
      "outputs": []
    },
    {
      "cell_type": "code",
      "metadata": {
        "id": "dHMb7va7puxk"
      },
      "source": [
        "# Exemplo do medium pra compreender melhor\n",
        "# https://medium.com/@eddydecena/validando-si-un-número-es-primo-en-python-a622cf6b4363\n",
        "\n",
        "def isPrime(num):\n",
        "    if num < 1:\n",
        "        return False\n",
        "    elif num == 2:\n",
        "        return True\n",
        "    else:\n",
        "        for i in range(2, num):\n",
        "            if num % i == 0:\n",
        "                return False\n",
        "        return True            \n",
        "\n",
        "def app():\n",
        "    num = int(input('Write a number: '))\n",
        "    result = isPrime(num)\n",
        "\n",
        "    if result is True:\n",
        "        print('The number is prime!!')\n",
        "    else:\n",
        "        print('The number is not prime!!')\n",
        "\n",
        "if __name__ == '__main__':\n",
        "      app()"
      ],
      "execution_count": null,
      "outputs": []
    },
    {
      "cell_type": "code",
      "metadata": {
        "id": "2KlXbDFsVnkb"
      },
      "source": [
        "# Exemplo do professor\n",
        "def ePrimo(num):\n",
        "    # testa divisão inteira de num por 2 até num-1\n",
        "    for d in range(2, num):\n",
        "        # verifica se num é dívisível por d\n",
        "        if num % d ==0:\n",
        "            # se divisível não é primo\n",
        "            return False\n",
        "    # não tem divisores entre 2 e num-2, é primo\n",
        "    return True\n",
        "\n",
        "\n",
        "# Programa principal\n",
        "n = int(input('Digite um inteiro: '))\n",
        "print(n, 'e primo? ', ePrimo(n))"
      ],
      "execution_count": null,
      "outputs": []
    },
    {
      "cell_type": "code",
      "metadata": {
        "colab": {
          "base_uri": "https://localhost:8080/"
        },
        "id": "pr6QJUgstDEb",
        "outputId": "2285ddb4-0777-41e3-fdc8-e35609d17557"
      },
      "source": [
        "# 4) Construa um programa Python receba um número inteiro, determinando a\n",
        "# soma de 0 até tal número (incluso) por meio de uma função soma(n) que retorne tal soma.\n",
        "#resultado_soma = 0\n",
        "resultado_s = 0\n",
        "\n",
        "def soma(num):\n",
        "  for i in range(1,num+1):\n",
        "      global resultado_s\n",
        "      resultado_s += i\n",
        "    \n",
        "  return resultado_s\n",
        "\n",
        "num = int(input('Digite um número: '))\n",
        "print('A soma do número inserido é igual a', soma(num))\n"
      ],
      "execution_count": null,
      "outputs": [
        {
          "output_type": "stream",
          "name": "stdout",
          "text": [
            "Digite um número: 2\n",
            "A soma do número inserido é igual a 3\n"
          ]
        }
      ]
    },
    {
      "cell_type": "code",
      "metadata": {
        "id": "cPbzS2lrNzGS"
      },
      "source": [
        "resultado_s = 0\n",
        "\n",
        "def soma(num):\n",
        "  for i in range(1,num+1):\n",
        "      resultado_s += i\n",
        "    \n",
        "  return resultado_s\n",
        "\n",
        "num = int(input('Digite um número: '))\n",
        "print('A soma do número inserido é igual a', soma(num))"
      ],
      "execution_count": null,
      "outputs": []
    },
    {
      "cell_type": "code",
      "metadata": {
        "colab": {
          "base_uri": "https://localhost:8080/"
        },
        "id": "9h--zOQDwbEg",
        "outputId": "c160f6b8-7b26-47a8-989a-75ea9ecd3045"
      },
      "source": [
        "# Exemplo do professor\n",
        "\n",
        "def soma(n):\n",
        "    ''' Soma os inteiros de 0 até n (incluso)\n",
        "        Parâmetros:\n",
        "            n - inteiro limite da soma            \n",
        "        Retorno:\n",
        "            inteiro contendo soma de 0 até n (incluso)\n",
        "    '''\n",
        "    # inicializa soma\n",
        "    soma = 0\n",
        "    for v in range(1, n+1):\n",
        "        soma += v\n",
        "    # retorna soma\n",
        "    return soma\n",
        "\n",
        "\n",
        "# Programa principal\n",
        "n = int(input('Digite um inteiro: '))\n",
        "print('soma de 0 até', n, '=', soma(n))"
      ],
      "execution_count": null,
      "outputs": [
        {
          "output_type": "stream",
          "name": "stdout",
          "text": [
            "Digite um inteiro: 2\n",
            "soma de 0 até 2 = 3\n"
          ]
        }
      ]
    },
    {
      "cell_type": "code",
      "metadata": {
        "id": "3SlK02mr3GZH"
      },
      "source": [
        "# 5) Construa um programa que receba três números reais, considerando que estes\n",
        "# valores são os coeficientes a, b e c de uma equação de 2º grau. Crie uma função\n",
        "# delta(a,b,c) que calcule o delta da equação (= b² - 4ac). Crie outra função\n",
        "# temRaizes(a,b,c), que receba os coeficientes e utilize a função delta(a,b,c)\n",
        "# para determinar se equação possui raízes, retornando 2, se possui duas raízes,\n",
        "# 1 se possui raízes iguais e 0 se não possui raízes reais. O programa deve exibir\n",
        "# todas estas informações no console.\n",
        "\n",
        "import math\n",
        "\n",
        "def calcular_delta(a,b,c):\n",
        "  delta = b ** 2 - 4 * a * c\n",
        "\n",
        "  return delta"
      ],
      "execution_count": null,
      "outputs": []
    },
    {
      "cell_type": "code",
      "metadata": {
        "id": "FSAC1zcNTLVi"
      },
      "source": [
        ""
      ],
      "execution_count": null,
      "outputs": []
    },
    {
      "cell_type": "code",
      "metadata": {
        "colab": {
          "base_uri": "https://localhost:8080/"
        },
        "id": "iwi40mZ65TEZ",
        "outputId": "c591b85c-876d-4a4c-a2d4-c6055ee7fc98"
      },
      "source": [
        "a = float(input('Digite um número real: '))\n",
        "b = float(input('Digite um número real: '))\n",
        "c = float(input('Digite um número real: '))\n",
        "\n",
        "print(calcular_delta(a,b,c),\n",
        "       temRaizes(a,b,c))"
      ],
      "execution_count": null,
      "outputs": [
        {
          "output_type": "stream",
          "name": "stdout",
          "text": [
            "Digite um número real: 2\n",
            "Digite um número real: -6\n",
            "Digite um número real: -13\n",
            " \n",
            "A equação possui duas raízes reais\n",
            "O valor de delta é  140.0\n",
            "O valor da primeira raiz é 17.83215956619923 \n",
            " o valor da segunda raiz é  -5.832159566199232\n",
            "140.0 None\n"
          ]
        }
      ]
    },
    {
      "cell_type": "code",
      "metadata": {
        "colab": {
          "base_uri": "https://localhost:8080/"
        },
        "id": "PFwQ2-Le45n9",
        "outputId": "95e5cc72-f211-43b4-b76d-9eb6cddb6646"
      },
      "source": [
        "# Exemplo do professor\n",
        "\n",
        "def delta(a, b, c):\n",
        "    ''' Calcula o delta de uma função de 2o graus de coeficientes a, b, c.\n",
        "        Parâmetros:\n",
        "            a - coeficiente real a\n",
        "            b - coeficiente real b\n",
        "            c - coeficiente real c\n",
        "        Retorno:\n",
        "            valor do delta (b*b - 4*a*c)\n",
        "    '''\n",
        "    # cálculo de delta\n",
        "    res = b*b - 4*a*c\n",
        "    # retorna delta\n",
        "    return res\n",
        "\n",
        "\n",
        "def temRaizes(a, b, c):\n",
        "    ''' Determina o número de raízes de uma função de 2o graus de\n",
        "        coeficientes a, b, c.\n",
        "        Parâmetros:\n",
        "            a - coeficiente real a\n",
        "            b - coeficiente real b\n",
        "            c - coeficiente real c\n",
        "        Retorno:\n",
        "            número inteiro de raízes da função de 2o grau\n",
        "    '''\n",
        "    d = delta(a, b, c)\n",
        "    if d < 0:\n",
        "        return 0\n",
        "    elif d == 0:\n",
        "        return 1\n",
        "    else:\n",
        "        return 2\n",
        "    \n",
        "\n",
        "# Programa principal\n",
        "print('Função de 2o grau')\n",
        "a = int(input('Digite o coeficiente real a: '))\n",
        "b = int(input('Digite o coeficiente real b: '))\n",
        "c = int(input('Digite o coeficiente real c: '))\n",
        "\n",
        "if a != 0:\n",
        "    print('∆ =', delta(a, b, c))\n",
        "    raizes = temRaizes(a, b, c)\n",
        "    if raizes == 0:\n",
        "        print('Esta função não tem raizes reais.')\n",
        "    elif raizes == 1:\n",
        "        print('Esta função tem duas raizes reais iguais.')\n",
        "    else:\n",
        "        print('Esta função tem duas raizes reais distintas.')        \n",
        "else:\n",
        "    print('Não é uma função de 2o grau, pois a=0')"
      ],
      "execution_count": null,
      "outputs": [
        {
          "output_type": "stream",
          "name": "stdout",
          "text": [
            "Função de 2o grau\n",
            "Digite o coeficiente real a: 2\n",
            "Digite o coeficiente real b: -6\n",
            "Digite o coeficiente real c: 12\n",
            "∆ = -60\n",
            "Esta função não tem raizes reais.\n"
          ]
        }
      ]
    },
    {
      "cell_type": "code",
      "metadata": {
        "id": "ntOmNjIZ73Uf"
      },
      "source": [
        "# 6) Construa uma função Python que permita a leitura de um real, garantindo que\n",
        "# esteja numa faixa de valores limitada por um mínimo e um máximo (inclusos na faixa)\n",
        "# indicada como seus argumentos. A função também deve receber, opcionalmente, um\n",
        "# parâmetro com o número máximo de tentativas, cujo padrão é 3. Se o usuário não\n",
        "# fornecer um valor correto neste número de tentativas a função deve retornar None.\n",
        "# Escreva um programa que use esta função para ler valores reais entre 0 e 10 em\n",
        "# duas, três e quatro tentativas."
      ],
      "execution_count": null,
      "outputs": []
    },
    {
      "cell_type": "code",
      "metadata": {
        "colab": {
          "base_uri": "https://localhost:8080/"
        },
        "id": "ynQwize58FqW",
        "outputId": "0d7fdb7d-a627-49b4-e417-946684762b93"
      },
      "source": [
        "# 7) Escreva um programa que leia um número inteiro (na base 10) convertendo-o para\n",
        "# seu equivalente em binário (base 2) por meio de uma função dec2bin(n).\n",
        "\n",
        "numero = int(input('Digite um número inteiro decimal: '))\n",
        "\n",
        "def dec_to_bin(x):\n",
        "    return int(bin(x)[2:])\n",
        "\n",
        "resultado = dec_to_bin(numero)\n",
        "\n",
        "print('O número decimal', numero, 'é em binário', dec_to_bin(numero)) "
      ],
      "execution_count": null,
      "outputs": [
        {
          "output_type": "stream",
          "name": "stdout",
          "text": [
            "Digite um número inteiro decimal: 25\n",
            "O número decimal 25 é em binário 11001\n"
          ]
        }
      ]
    },
    {
      "cell_type": "markdown",
      "metadata": {
        "id": "aN3gSFUDu6lD"
      },
      "source": [
        "# Lista de Exercícios 4\n",
        "\n",
        "**Oficina de Python 1 (básico)**<br>\n",
        "**Lista de Exercícios QUATRO**<br>\n",
        "Esta lista de exercícios tem estes objetivos:<br>\n",
        "(i)*fixação dos conceitos associados sequenciação, entrada e saída, computação,\n",
        "repetição e decisão;*<br>\n",
        "(ii) *modularização por meio da criação de funções;*<br>\n",
        "(iii) *aplicação das estruturas de dados do Python*.<br>\n",
        "\n",
        "\n",
        "1. Construa uma função Python que permita a leitura de N valores reais, onde N é\n",
        "indicado como seu argumento. Os valores lidos devem ser retornados na forma de\n",
        "uma lista (tipo list). Escreva um programa que use esta função para ler uma lista de 5\n",
        "valores reais. Imprimir a lista após a entrada dos dados.\n",
        "2. Construa um programa Python leia 20 valores reais, colocados em uma lista (utilize a\n",
        "função criada no exercício 1). Exiba (imprima):\n",
        "a. o valor do maior elemento presente na lista\n",
        "b. a posição do menor elemento presente na lista\n",
        "c. todos os valores ímpares\n",
        "d. a soma de todos os elementos\n",
        "e. a média de todos os elementos positivos (apenas valores > 0)\n",
        "3. Desenvolva uma função Python que leia a coordenada x,y de um ponto num plano\n",
        "cartesiano (R²), retornando-a como uma tupla (tipo tuple); e uma segunda função\n",
        "para calcular a distância entre dois pontos informados como tuplas (x,y), retornando\n",
        "a medida como um valor real. Faça um programa que leia três pontos e calcule o\n",
        "perímetro do triângulo formado por esses três pontos.\n",
        "4. Desenvolva funções Python para:\n",
        "a. Transformar uma lista (list) em uma tupla (tuple);\n",
        "b. Transformar uma lista (list) em um conjunto (set);\n",
        "c. Transformar uma tupla (tuple) numa lista (list);\n",
        "d. Transformar um conjunto (set) numa lista (list).\n",
        "5. Construa um programa Python receba uma lista com números reais apenas entre 0 e\n",
        "10. O programa deve usar uma função para criar uma lista contendo o número de\n",
        "ocorrências entre 0 e 1(não incluso), 1 e 2 (não incluso, ..., 8 e 9 (não incluso); e 9 e\n",
        "10 (incluso), exibindo esta lista.\n",
        "6. Escreva um programa que utilize um dicionário para organizar: RA, código da\n",
        "disciplina, nota P1, nota P2, média e frequência de um aluno numa disciplina. Ler e\n",
        "exibir dos dados deste dicionário, um item por linha.\n",
        "7. Escreva um programa para coletar os dados de N alunos (informado pelo usuário,\n",
        "como no exercício 6, criando um lista com os dicionários (tipo dict) de cada aluno.\n",
        "Exibir a lista.\n",
        "8. Escreva um programa que leia uma String. O programa deve, com uso de uma\n",
        "função, montar uma lista das palavras distintas das String; e com outra, indicar o\n",
        "número de sua ocorrência (contagem) dentro da String. Desconsidere símbolos de\n",
        "pontuação e dígitos.\n"
      ]
    },
    {
      "cell_type": "code",
      "metadata": {
        "id": "_H0ZN5_eMxNx"
      },
      "source": [
        ""
      ],
      "execution_count": null,
      "outputs": []
    }
  ]
}