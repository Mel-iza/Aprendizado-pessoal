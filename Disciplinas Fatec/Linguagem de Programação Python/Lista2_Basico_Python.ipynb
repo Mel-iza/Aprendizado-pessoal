{
  "nbformat": 4,
  "nbformat_minor": 0,
  "metadata": {
    "colab": {
      "name": "Lista2 Basico - Python.ipynb",
      "provenance": [],
      "collapsed_sections": []
    },
    "kernelspec": {
      "name": "python3",
      "display_name": "Python 3"
    },
    "language_info": {
      "name": "python"
    }
  },
  "cells": [
    {
      "cell_type": "markdown",
      "source": [
        "# Lista de Exercícios 2 - Básico\n",
        "Disciplina Linguagens de Programação - Python"
      ],
      "metadata": {
        "id": "jrvUAi0w-qUL"
      }
    },
    {
      "cell_type": "markdown",
      "source": [
        "Esta lista de exercícios tem estes objetivos: <br>\n",
        "(i) fixação dos conceitos associados à entrada e saída; <br>\n",
        "(ii) definição de variáveis e realização de cálculos com expressões; <br>\n",
        "(iii) uso de repetição e de decisão; <br>\n",
        "(iv) sequenciação de comandos para resolução de problemas. <br>"
      ],
      "metadata": {
        "id": "ClT_fWwq--LJ"
      }
    },
    {
      "cell_type": "markdown",
      "source": [
        "1) Construa um programa Python que apresente a tabuada de um número inteiro n fornecido pelo usuário. A tabuada deve ser apresentada como segue, imaginando que o usuário digitou o número 11: 11 x 0 = 0 11 x 1 = 11 11 x 2 = 22 : 11 x 10 = 110"
      ],
      "metadata": {
        "id": "YoAFe59T_FNB"
      }
    },
    {
      "cell_type": "code",
      "execution_count": 1,
      "metadata": {
        "colab": {
          "base_uri": "https://localhost:8080/"
        },
        "id": "kuHDUtlK-ndo",
        "outputId": "eea49107-e360-4743-8401-9cbc7fd00cfe"
      },
      "outputs": [
        {
          "output_type": "stream",
          "name": "stdout",
          "text": [
            "Digite um número para saber a tabuada dele 7\n",
            "O tabuada será do 7\n",
            "0 x 7  =  0\n",
            "1 x 7  =  7\n",
            "2 x 7  =  14\n",
            "3 x 7  =  21\n",
            "4 x 7  =  28\n",
            "5 x 7  =  35\n",
            "6 x 7  =  42\n",
            "7 x 7  =  49\n",
            "8 x 7  =  56\n",
            "9 x 7  =  63\n",
            "10 x 7  =  70\n"
          ]
        }
      ],
      "source": [
        "n = int(input('Digite um número para saber a tabuada dele '))\n",
        "print('O tabuada será do', n)\n",
        "\n",
        "for contador in range (0,11):\n",
        "  print(contador,'x', n, ' = ', contador * n)"
      ]
    },
    {
      "cell_type": "markdown",
      "source": [
        "2) Escreva um programa Python que leia números reais fornecidos pelo usuário até que sua soma seja 100 ou mais. Então o programa deve apresentar a quantidade de números fornecidos e sua média aritmética simples."
      ],
      "metadata": {
        "id": "u4PlPyYl_MUg"
      }
    },
    {
      "cell_type": "code",
      "source": [
        "soma = 0\n",
        "contador = 0\n",
        "valor = 0\n",
        "\n",
        "while soma < 100:\n",
        "  valor = int(input('Digite um valor: '))\n",
        "  soma += valor\n",
        "  contador += 1\n",
        "  media = soma/contador\n",
        "\n",
        "print('---' * 20)\n",
        "print('A soma dos valores é:', soma)\n",
        "print('A média dos valores é: ', media)\n",
        "print('A quantidade de valores inseridos é:', contador)\n",
        "print('---' * 20)"
      ],
      "metadata": {
        "colab": {
          "base_uri": "https://localhost:8080/"
        },
        "id": "9H3MXAml_ORC",
        "outputId": "4effd3ad-a4b3-4096-e995-8d5f6ebf6f8d"
      },
      "execution_count": 2,
      "outputs": [
        {
          "output_type": "stream",
          "name": "stdout",
          "text": [
            "Digite um valor: 5\n",
            "Digite um valor: 3\n",
            "Digite um valor: 50\n",
            "Digite um valor: 47\n",
            "------------------------------------------------------------\n",
            "A soma dos valores é: 105\n",
            "A média dos valores é:  26.25\n",
            "A quantidade de valores inseridos é: 4\n",
            "------------------------------------------------------------\n"
          ]
        }
      ]
    },
    {
      "cell_type": "markdown",
      "source": [
        "3) Construa um programa Python receba um número inteiro indicando se ele é par ou não."
      ],
      "metadata": {
        "id": "s24BwvJ1_OuB"
      }
    },
    {
      "cell_type": "code",
      "source": [
        "numero = int(input('Digite um número inteiro '))\n",
        "\n",
        "if numero%2 == 0:\n",
        "  print('O número inserido é par')\n",
        "else:\n",
        "  print('O número inserido é ímpar')"
      ],
      "metadata": {
        "colab": {
          "base_uri": "https://localhost:8080/"
        },
        "id": "TRWv75oA_QyL",
        "outputId": "451871b0-7bb8-4f59-aa72-a0156636e583"
      },
      "execution_count": 4,
      "outputs": [
        {
          "output_type": "stream",
          "name": "stdout",
          "text": [
            "Digite um número inteiro 3\n",
            "O número inserido é ímpar\n"
          ]
        }
      ]
    },
    {
      "cell_type": "markdown",
      "source": [
        "4) Construa um programa Python receba um número inteiro indicando se ele é primo ou não. Os números primos são aqueles que só podem ser divisíveis por 1 e por eles mesmos. Você pode considerar o número 1 como primo. Se o usuário fornecer um número menor do que 1, o programa deve exibir um aviso e ser encerrado."
      ],
      "metadata": {
        "id": "oVx7HKrE_RbZ"
      }
    },
    {
      "cell_type": "code",
      "source": [
        "numero = int(input('Digite um número inteiro '))\n",
        "\n",
        "if numero >= 1:\n",
        "  if numero/numero == 1 and numero/1 == numero:\n",
        "    print('O número inserido é primo')\n",
        "  else:\n",
        "    print('O número inserido não é primo')\n",
        "\n",
        "else:\n",
        "  print('Entrada inválida. Digite um número maior que zero')"
      ],
      "metadata": {
        "colab": {
          "base_uri": "https://localhost:8080/"
        },
        "id": "aP0ARHaN_T9T",
        "outputId": "7da2d3be-6deb-4eee-b570-4abdb7c87ec8"
      },
      "execution_count": 5,
      "outputs": [
        {
          "output_type": "stream",
          "name": "stdout",
          "text": [
            "Digite um número inteiro 7\n",
            "O número inserido é primo\n"
          ]
        }
      ]
    },
    {
      "cell_type": "markdown",
      "source": [
        "5) Escreva um programa que leia vários números reais, positivos ou negativos, até que o usuário digite o valor 0. Então o programa deve: apresentar a quantidade de números positivos fornecidos, a quantidade de números negativos fornecidos, a soma dos números positivos, a soma dos números negativos, a média dos números positivos e a média dos números negativos."
      ],
      "metadata": {
        "id": "4p-69-GP_VTh"
      }
    },
    {
      "cell_type": "code",
      "source": [
        "q_positivos = 0\n",
        "q_negativos = 0\n",
        "soma_pos = 0\n",
        "soma_neg = 0\n",
        "\n",
        "numeros = (int(input('Digite um número. Para parar o programa insira o número zero ')))\n",
        "\n",
        "while numeros != 0:\n",
        "  numeros = (int(input('Digite um número. Para parar o programa insira o número zero ')))   \n",
        "  \n",
        "  if numeros > 0:\n",
        "      q_positivos += 1\n",
        "      soma_pos += numeros \n",
        "      media_pos = soma_pos/q_positivos\n",
        "  else:\n",
        "    if numeros < 0:\n",
        "      q_negativos += 1\n",
        "      soma_neg += numeros \n",
        "      media_neg = soma_neg/q_negativos\n",
        "\n",
        "#break\n",
        "#print('fim do programa')\n",
        "print(' ')\n",
        "print('---' * 20)\n",
        "\n",
        "print('Quantidade de números positivos: ', q_positivos)\n",
        "print('Soma dos números positivos: ', soma_pos)\n",
        "print('Média dos números positivos: ', media_pos)\n",
        "\n",
        "print('---' * 20)\n",
        "\n",
        "print('Quantidade de números negativos: ', q_negativos)\n",
        "print('Soma dos números negativos: ', soma_neg)\n",
        "print('Média dos números negativos: ', media_neg)"
      ],
      "metadata": {
        "colab": {
          "base_uri": "https://localhost:8080/"
        },
        "id": "v9mZHqVU_XcT",
        "outputId": "f773a429-4790-4e1d-d23c-9450881a60d3"
      },
      "execution_count": 6,
      "outputs": [
        {
          "output_type": "stream",
          "name": "stdout",
          "text": [
            "Digite um número. Para parar o programa insira o número zero 2\n",
            "Digite um número. Para parar o programa insira o número zero 3\n",
            "Digite um número. Para parar o programa insira o número zero 5\n",
            "Digite um número. Para parar o programa insira o número zero -8\n",
            "Digite um número. Para parar o programa insira o número zero -12\n",
            "Digite um número. Para parar o programa insira o número zero 0\n",
            " \n",
            "------------------------------------------------------------\n",
            "Quantidade de números positivos:  2\n",
            "Soma dos números positivos:  8\n",
            "Média dos números positivos:  4.0\n",
            "------------------------------------------------------------\n",
            "Quantidade de números negativos:  2\n",
            "Soma dos números negativos:  -20\n",
            "Média dos números negativos:  -10.0\n"
          ]
        }
      ]
    },
    {
      "cell_type": "markdown",
      "source": [
        "6) Construa um programa que receba (leia) dois números reais, considerando que estes valores são os coeficientes a e b de uma equação de 1º grau. Monte uma tabela com os resultados de x = a*x + b para os valores de x de -5.0 a +5.0, com x variando de 0.5 e, 0.5."
      ],
      "metadata": {
        "id": "c_i_52DS_X0a"
      }
    },
    {
      "cell_type": "code",
      "source": [
        "import numpy as np \n",
        "\n",
        "a = float(input('Digite um número real: '))\n",
        "b = float(input('Digite um número real: '))\n",
        "\n",
        "for x in np.arange(-5.0, 5.0+1.0, 0.5):\n",
        "  resultado = a * x + b\n",
        "  print(' | ', a, ' x ', x, ' + ', b, ' = ', resultado)"
      ],
      "metadata": {
        "colab": {
          "base_uri": "https://localhost:8080/"
        },
        "id": "9evmqKAg_bF7",
        "outputId": "fc69d33a-ee2c-4765-c87a-d2303d5fce47"
      },
      "execution_count": 7,
      "outputs": [
        {
          "output_type": "stream",
          "name": "stdout",
          "text": [
            "Digite um número real: 5\n",
            "Digite um número real: 2\n",
            " |  5.0  x  -5.0  +  2.0  =  -23.0\n",
            " |  5.0  x  -4.5  +  2.0  =  -20.5\n",
            " |  5.0  x  -4.0  +  2.0  =  -18.0\n",
            " |  5.0  x  -3.5  +  2.0  =  -15.5\n",
            " |  5.0  x  -3.0  +  2.0  =  -13.0\n",
            " |  5.0  x  -2.5  +  2.0  =  -10.5\n",
            " |  5.0  x  -2.0  +  2.0  =  -8.0\n",
            " |  5.0  x  -1.5  +  2.0  =  -5.5\n",
            " |  5.0  x  -1.0  +  2.0  =  -3.0\n",
            " |  5.0  x  -0.5  +  2.0  =  -0.5\n",
            " |  5.0  x  0.0  +  2.0  =  2.0\n",
            " |  5.0  x  0.5  +  2.0  =  4.5\n",
            " |  5.0  x  1.0  +  2.0  =  7.0\n",
            " |  5.0  x  1.5  +  2.0  =  9.5\n",
            " |  5.0  x  2.0  +  2.0  =  12.0\n",
            " |  5.0  x  2.5  +  2.0  =  14.5\n",
            " |  5.0  x  3.0  +  2.0  =  17.0\n",
            " |  5.0  x  3.5  +  2.0  =  19.5\n",
            " |  5.0  x  4.0  +  2.0  =  22.0\n",
            " |  5.0  x  4.5  +  2.0  =  24.5\n",
            " |  5.0  x  5.0  +  2.0  =  27.0\n",
            " |  5.0  x  5.5  +  2.0  =  29.5\n"
          ]
        }
      ]
    },
    {
      "cell_type": "markdown",
      "source": [
        "7) Construa um programa que receba (leia) três números reais, considerando que estes três valores são os coeficientes a, b e c de uma equação de 2º grau. Calcule o delta (= b² - 4ac) e as raízes desta equação, exibindo estas informações no console."
      ],
      "metadata": {
        "id": "zyx1Wv2o_bwp"
      }
    },
    {
      "cell_type": "code",
      "source": [
        "import math\n",
        "\n",
        "a = float(input('Digite um número real: '))\n",
        "b = float(input('Digite um número real: '))\n",
        "c = float(input('Digite um número real: '))\n",
        "\n",
        "delta = b ** 2 - 4 * a * c\n",
        "\n",
        "if delta < 0:\n",
        "  print(' ')\n",
        "  print('A equação não possui raízes reais')\n",
        "  print('O valor de delta é ', delta)\n",
        "\n",
        "elif delta > 0:\n",
        "  x_1 = (-b + math.pow(delta, 1/2)) / 2 * a\n",
        "  x_2 = (b + math.pow(delta, 1/2)) / 2 * a\n",
        "\n",
        "  print(' ')\n",
        "  print('A equação possui duas raízes reais')\n",
        "  print('O valor de delta é ', delta)\n",
        "  print('O valor da primeira raiz é', x_1, \n",
        "        '\\n o valor da segunda raiz é ', - x_2)\n",
        "\n",
        "else: \n",
        "  x = (b + math.pow(delta, 1/2)) / 2 * a\n",
        "\n",
        "  print(' ')\n",
        "  print('A equação possui uma raiz real')\n",
        "  print('O valor de delta é ', delta)\n",
        "  print('O valor da raiz é', x)"
      ],
      "metadata": {
        "colab": {
          "base_uri": "https://localhost:8080/"
        },
        "id": "LWCT56TQ_dvy",
        "outputId": "729d7e5a-f541-461d-bbdc-8d6301bf7bd1"
      },
      "execution_count": 9,
      "outputs": [
        {
          "output_type": "stream",
          "name": "stdout",
          "text": [
            "Digite um número real: 2\n",
            "Digite um número real: 3\n",
            "Digite um número real: -1\n",
            " \n",
            "A equação possui duas raízes reais\n",
            "O valor de delta é  17.0\n",
            "O valor da primeira raiz é 1.1231056256176606 \n",
            " o valor da segunda raiz é  -7.123105625617661\n"
          ]
        }
      ]
    },
    {
      "cell_type": "markdown",
      "source": [
        "8) Escreva um programa que leia um número inteiro (naturalmente na base 10) convertendo-o para seu equivalente em binário (base 2)."
      ],
      "metadata": {
        "id": "M3pLUDGQ_eJq"
      }
    },
    {
      "cell_type": "code",
      "source": [
        "numero = int(input('Digite um número inteiro decimal: '))\n",
        "\n",
        "def dec_to_bin(x):\n",
        "    return int(bin(x)[2:])\n",
        "\n",
        "resultado = dec_to_bin(numero)\n",
        "\n",
        "print('O número decimal', numero, 'é em binário', resultado) "
      ],
      "metadata": {
        "colab": {
          "base_uri": "https://localhost:8080/"
        },
        "id": "e2w8IrDq_g2j",
        "outputId": "1b7e266a-f6cb-4eba-b1db-b197021f6257"
      },
      "execution_count": 13,
      "outputs": [
        {
          "output_type": "stream",
          "name": "stdout",
          "text": [
            "Digite um número inteiro decimal: 2\n",
            "O número decimal 2 é em binário 10\n"
          ]
        }
      ]
    },
    {
      "cell_type": "code",
      "source": [
        ""
      ],
      "metadata": {
        "id": "24zOlTBVAeV7"
      },
      "execution_count": null,
      "outputs": []
    }
  ]
}