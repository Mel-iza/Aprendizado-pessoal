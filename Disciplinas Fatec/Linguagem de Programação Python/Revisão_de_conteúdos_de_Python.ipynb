{
  "nbformat": 4,
  "nbformat_minor": 0,
  "metadata": {
    "colab": {
      "name": "Revisão de conteúdos de Python.ipynb",
      "provenance": [],
      "collapsed_sections": [
        "dpjNpqLG-xK_",
        "JhQ8vXsxbifN"
      ]
    },
    "kernelspec": {
      "name": "python3",
      "display_name": "Python 3"
    },
    "language_info": {
      "name": "python"
    }
  },
  "cells": [
    {
      "cell_type": "markdown",
      "metadata": {
        "id": "Xr57B5SW-rJy"
      },
      "source": [
        "# Revisão de conteúdos de Python\n"
      ]
    },
    {
      "cell_type": "markdown",
      "metadata": {
        "id": "dpjNpqLG-xK_"
      },
      "source": [
        "## Computação\n",
        "Habilidade de realizar cálculos, portanto inclui:<br>\n",
        "* conhecer os tipos de dados do Python;\n",
        "* Definir variáveis com conteúdos de diversos tipos;\n",
        "* Saber utilizar os operadores dal inguagem para realização de cálculos;\n",
        "* Realizar a saída (impressão) de valores e resultados; e a entrada (captura) de valores e dados."
      ]
    },
    {
      "cell_type": "code",
      "metadata": {
        "colab": {
          "base_uri": "https://localhost:8080/"
        },
        "id": "QojN_Q7a-pjM",
        "outputId": "9f9a4247-f42b-474e-d9be-7f4d4a5dea25"
      },
      "source": [
        "# Definir variáveis com conteúdo inteiro\n",
        "\n",
        "x = 10\n",
        "y = 9\n",
        "w = 2021\n",
        "\n",
        "print(x,y,w)"
      ],
      "execution_count": null,
      "outputs": [
        {
          "output_type": "stream",
          "name": "stdout",
          "text": [
            "10 9 2021\n"
          ]
        }
      ]
    },
    {
      "cell_type": "code",
      "metadata": {
        "colab": {
          "base_uri": "https://localhost:8080/"
        },
        "id": "nU3AjBAz_oTG",
        "outputId": "707a8ff9-68f9-4c1f-8b83-ade98fd0afc6"
      },
      "source": [
        "# Definir variáveis com conteúdo real\n",
        "\n",
        "z = 2.23\n",
        "h = 6.758\n",
        "i = 88.654\n",
        "\n",
        "print(z,h,i)\n",
        "print(\"A primeira variável é z e tem o valor\",z)\n",
        "print(\"A segunda variável é h e tem o valor\",h)\n",
        "print(\"A terceira variável é i e tem o valor\",i)"
      ],
      "execution_count": null,
      "outputs": [
        {
          "output_type": "stream",
          "name": "stdout",
          "text": [
            "2.23 6.758 88.654\n",
            "A primeira variável é z e tem o valor 2.23\n",
            "A segunda variável é h e tem o valor 6.758\n",
            "A terceira variável é i e tem o valor 88.654\n"
          ]
        }
      ]
    },
    {
      "cell_type": "code",
      "metadata": {
        "colab": {
          "base_uri": "https://localhost:8080/"
        },
        "id": "TgQJbW0L_8GY",
        "outputId": "82d9fd56-5e40-4067-a5f3-9b219f25b17e"
      },
      "source": [
        "print('Jundiai', \"FATEC\", 114)\n",
        "print('Jundiai', \"FATEC\", 114, sep='-')\n",
        "print('Jundiai', \"FATEC\", 114, sep='*=*')"
      ],
      "execution_count": null,
      "outputs": [
        {
          "output_type": "stream",
          "name": "stdout",
          "text": [
            "Jundiai FATEC 114\n",
            "Jundiai-FATEC-114\n",
            "Jundiai*=*FATEC*=*114\n"
          ]
        }
      ]
    },
    {
      "cell_type": "code",
      "metadata": {
        "colab": {
          "base_uri": "https://localhost:8080/"
        },
        "id": "_XL67I3kAr4C",
        "outputId": "999c4384-0379-4172-b22c-5726c5c2c5d7"
      },
      "source": [
        "print(x)\n",
        "print(x,y)\n",
        "print(x,y,w)\n",
        "print(x,y,w,z)\n",
        "print(x,y,w,z, sep='/')"
      ],
      "execution_count": null,
      "outputs": [
        {
          "output_type": "stream",
          "name": "stdout",
          "text": [
            "10\n",
            "10 9\n",
            "10 9 2021\n",
            "10 9 2021 2.23\n",
            "10/9/2021/2.23\n"
          ]
        }
      ]
    },
    {
      "cell_type": "code",
      "metadata": {
        "colab": {
          "base_uri": "https://localhost:8080/"
        },
        "id": "OSt0HgB_A-0G",
        "outputId": "a98e162c-55c2-4ed1-c021-c69d36eb21bc"
      },
      "source": [
        "### Operadores aritméticos\n",
        "\n",
        "soma = x + y \n",
        "print(\"Soma = x + y = \", soma)\n",
        "\n",
        "subtracao = x - y \n",
        "print(\"Soma = x + y = \", subtracao)\n",
        "\n",
        "multiplicacao = x * y \n",
        "print(\"Soma = x + y = \", multiplicacao)\n",
        "\n",
        "divisao = x / y \n",
        "print(\"Soma = x + y = \", divisao)\n"
      ],
      "execution_count": null,
      "outputs": [
        {
          "output_type": "stream",
          "name": "stdout",
          "text": [
            "Soma = x + y =  19\n",
            "Soma = x + y =  1\n",
            "Soma = x + y =  90\n",
            "Soma = x + y =  1.1111111111111112\n"
          ]
        }
      ]
    },
    {
      "cell_type": "markdown",
      "metadata": {
        "id": "7pdt3NkBGMyy"
      },
      "source": [
        "A divisão no Python pode ser realizada de maneira a:\n",
        "* produzir uma divisão real (/)\n",
        "* produzir uma divisão inteira (//)\n",
        "* calcular o resto da divisão inteira(%)"
      ]
    },
    {
      "cell_type": "code",
      "metadata": {
        "id": "e0Mr966nGACq"
      },
      "source": [
        "# Operadores relacionais\n",
        "\n"
      ],
      "execution_count": null,
      "outputs": []
    },
    {
      "cell_type": "markdown",
      "metadata": {
        "id": "DbyaM7h2aacs"
      },
      "source": [
        "Os operadores relacionais retorna um resultado False ou True, mostrando se a relação indicada é falsa ou verdadeira:\n",
        "* &gt;, >= (maior e maior-igual)\n",
        "* <, <= (menor e menor-igual)\n",
        "* == (igual/igualdade)\n",
        "* != (diferença)"
      ]
    },
    {
      "cell_type": "code",
      "metadata": {
        "colab": {
          "base_uri": "https://localhost:8080/"
        },
        "id": "OIg4ixYOabyh",
        "outputId": "8a0a7ef1-69b3-44dc-c963-779feea60207"
      },
      "source": [
        "# Prova, com uso de operadore relacional de IGUALDADE ==\n",
        "a = 9\n",
        "b = 4\n",
        "div_inteira = 2\n",
        "resto = 1\n",
        "\n",
        "print(a, '==', div_inteira, '*', b, '+', resto)\n",
        "a == div_inteira * b + resto"
      ],
      "execution_count": null,
      "outputs": [
        {
          "output_type": "stream",
          "name": "stdout",
          "text": [
            "9 == 2 * 4 + 1\n"
          ]
        },
        {
          "output_type": "execute_result",
          "data": {
            "text/plain": [
              "True"
            ]
          },
          "metadata": {},
          "execution_count": 9
        }
      ]
    },
    {
      "cell_type": "code",
      "metadata": {
        "colab": {
          "base_uri": "https://localhost:8080/"
        },
        "id": "Namm_8MlaufJ",
        "outputId": "1f5d5c81-b290-46c4-d1f3-51b9c3c1872f"
      },
      "source": [
        "# Entrada de valores\n",
        "# leitura de string com input\n",
        "nome = input(\"Nome? \")\n",
        "print(\"nome =\", nome)"
      ],
      "execution_count": null,
      "outputs": [
        {
          "output_type": "stream",
          "name": "stdout",
          "text": [
            "Nome? mel\n",
            "nome = mel\n"
          ]
        }
      ]
    },
    {
      "cell_type": "code",
      "metadata": {
        "id": "X3fVVhntbgvI"
      },
      "source": [
        ""
      ],
      "execution_count": null,
      "outputs": []
    },
    {
      "cell_type": "markdown",
      "metadata": {
        "id": "JhQ8vXsxbifN"
      },
      "source": [
        "# Sequenciação\n",
        "Habilidade do programador em estabelecer qual a sequência, ou seja, qual a ordem dos comandos de um programa para que ele possa resolver um dado problema. É a **lógica** da programação!<br>\n",
        "\n",
        "Desejamos calcular a área, que é dada por:\n",
        "> área = largura * comprimento\n",
        "Precisamos:\n",
        "1. Obter a medida da largura;\n",
        "2. Obter a medida do comprimento;\n",
        "3. Efetuar o cálculo da área;\n",
        "4. Apresentar o resultado.\n"
      ]
    },
    {
      "cell_type": "code",
      "metadata": {
        "colab": {
          "base_uri": "https://localhost:8080/"
        },
        "id": "R6ZCRd21b4Ve",
        "outputId": "ef66dcc9-8076-49d6-fd24-e07b131efbe7"
      },
      "source": [
        "# Obter a medida da largura;\n",
        "\n",
        "largura = (float(input(\"Digite a largura do salão (m)\" )))\n",
        "print(\"A largura digitada foi: \",largura)"
      ],
      "execution_count": null,
      "outputs": [
        {
          "output_type": "stream",
          "name": "stdout",
          "text": [
            "Digite a largura do salão (m)2\n",
            "A largura digitada foi:  2.0\n"
          ]
        }
      ]
    },
    {
      "cell_type": "code",
      "metadata": {
        "colab": {
          "base_uri": "https://localhost:8080/"
        },
        "id": "GjKlO4ZydF_-",
        "outputId": "42731109-6350-467f-ec5d-fed46c1c7d6d"
      },
      "source": [
        "comprimento = (float(input(\"Digite a comprimento do salão (m) \")))\n",
        "print(\"A largura digitada foi: \",comprimento)"
      ],
      "execution_count": null,
      "outputs": [
        {
          "output_type": "stream",
          "name": "stdout",
          "text": [
            "Digite a comprimento do salão (m) 3\n",
            "A largura digitada foi:  3.0\n"
          ]
        }
      ]
    },
    {
      "cell_type": "code",
      "metadata": {
        "id": "rVPsxCgZdNwn"
      },
      "source": [
        "area = largura * comprimento"
      ],
      "execution_count": null,
      "outputs": []
    },
    {
      "cell_type": "code",
      "metadata": {
        "colab": {
          "base_uri": "https://localhost:8080/"
        },
        "id": "ao_8vPxndUit",
        "outputId": "c5d3576b-b65e-4a3b-8b0a-0ae60782baaa"
      },
      "source": [
        "print(\"A área do salão é\",area, \"m\")"
      ],
      "execution_count": null,
      "outputs": [
        {
          "output_type": "stream",
          "name": "stdout",
          "text": [
            "A área do salão é 6.0 m\n"
          ]
        }
      ]
    },
    {
      "cell_type": "code",
      "metadata": {
        "id": "hoSq9oJAdb6u"
      },
      "source": [
        "# Problema 2\n",
        "# Como calcular o valor futuro de um investimento para o qual se \n",
        "# conhecem o valor presente(o quanto sera investido), a taxa de juros \n",
        "# anual, e o número de anos(períodos do investimento). Não haverão \n",
        "# aportes/saques intermediários (nenhuma outra adição será realizada)\n"
      ],
      "execution_count": null,
      "outputs": []
    },
    {
      "cell_type": "markdown",
      "metadata": {
        "id": "xa-RT9J2fVkk"
      },
      "source": [
        "Existe a relação:\n",
        "> valor_futuro = valor_presente * (1 + taxa_juros)\n",
        "<sup>número_períodos</sup>\n",
        "\n",
        "Passos para a solução:\n",
        "1. Obter valor presente;\n",
        "2. Obter taxa de juros;\n",
        "3. Obter número de períodos;\n",
        "4. Realizar o cálculo do valor futuro;\n",
        "5. Mostrar o resultado."
      ]
    },
    {
      "cell_type": "code",
      "metadata": {
        "colab": {
          "base_uri": "https://localhost:8080/"
        },
        "id": "f6uJIKB2fwi5",
        "outputId": "8eda82b3-5bad-4f5b-fbe5-4ab9438d7e33"
      },
      "source": [
        "#1. Obter valor presente\n",
        "\n",
        "valor_presente = (float(input(\"Digite o valor presente (R$)\")))\n",
        "print(\"O valor digitado foi:\", valor_presente)"
      ],
      "execution_count": null,
      "outputs": [
        {
          "output_type": "stream",
          "name": "stdout",
          "text": [
            "Digite o valor presente (R$)1250\n",
            "O valor digitado foi: 1250.0\n"
          ]
        }
      ]
    },
    {
      "cell_type": "code",
      "metadata": {
        "colab": {
          "base_uri": "https://localhost:8080/"
        },
        "id": "2CeZMhIlhEtQ",
        "outputId": "8b6c9a4a-f601-4c12-c848-583f56d51302"
      },
      "source": [
        "\n",
        "taxa_juros = (float(input(\"Digite a taxa de juros (%)\")))\n",
        "print(\"O valor digitado foi:\", taxa_juros)"
      ],
      "execution_count": null,
      "outputs": [
        {
          "output_type": "stream",
          "name": "stdout",
          "text": [
            "Digite a taxa de juros (R$)6\n",
            "O valor digitado foi: 6.0\n"
          ]
        }
      ]
    },
    {
      "cell_type": "code",
      "metadata": {
        "colab": {
          "base_uri": "https://localhost:8080/"
        },
        "id": "G7FUBmgKhOF0",
        "outputId": "a65974ab-47e4-46b1-c7cb-8c15f75d9367"
      },
      "source": [
        "numero_periodos = (int(input(\"Digite o número de períodos (anos)\")))\n",
        "print(\"O valor digitado foi:\", numero_periodos)"
      ],
      "execution_count": null,
      "outputs": [
        {
          "output_type": "stream",
          "name": "stdout",
          "text": [
            "Digite o número de períodos (anos)8\n",
            "O valor digitado foi: 8\n"
          ]
        }
      ]
    },
    {
      "cell_type": "code",
      "metadata": {
        "id": "Tce7NETuhhCD"
      },
      "source": [
        "valor_futuro = valor_presente * (1 + taxa_juros / 100) ** numero_periodos"
      ],
      "execution_count": null,
      "outputs": []
    },
    {
      "cell_type": "code",
      "metadata": {
        "colab": {
          "base_uri": "https://localhost:8080/"
        },
        "id": "OjQWGnl-hsTz",
        "outputId": "95e1d2cb-5e65-49c9-bf23-5304d4a06575"
      },
      "source": [
        "print(F\"O valor futuro do investimento é R${valor_futuro:.2f}.\")"
      ],
      "execution_count": null,
      "outputs": [
        {
          "output_type": "stream",
          "name": "stdout",
          "text": [
            "O valor futuro do investimento é R$1992.31.\n"
          ]
        }
      ]
    },
    {
      "cell_type": "code",
      "metadata": {
        "id": "JJ2K5IFGiMMo"
      },
      "source": [
        ""
      ],
      "execution_count": null,
      "outputs": []
    },
    {
      "cell_type": "markdown",
      "metadata": {
        "id": "Xsm1Ul0UtjTt"
      },
      "source": [
        "# Repetição\n",
        "\n",
        "Habilidade requerida na programação de computadores permite:\n",
        "* a repetição direta de um ou mais comandos;\n",
        "* a realização de contagem;\n",
        "* a acumulação de valores;\n",
        "* o percurso (navegação) por estruturas de dados;\n",
        "\n",
        "O python dispões de dois mecanismos de **repetição**:\n",
        "* repetição condicional\n",
        "* repetição automática"
      ]
    },
    {
      "cell_type": "markdown",
      "metadata": {
        "id": "BDRMbUUd-b44"
      },
      "source": [
        "### Repetição Automática/Direta de comandos\n"
      ]
    },
    {
      "cell_type": "code",
      "metadata": {
        "colab": {
          "base_uri": "https://localhost:8080/"
        },
        "id": "QxQh-ECxtlE7",
        "outputId": "14c9a7e5-5082-453f-c395-a287e7cf34f5"
      },
      "source": [
        "# range (inicio,fim) --> início e fim são inteiros. Início incluso, fim não incluso.\n",
        "\n",
        "for contador in range(0,5): #contador no conjunto 0, 1, 2\n",
        "  print(\"Impressão\", contador+1, \"vez(vezes)\") # importância da identação"
      ],
      "execution_count": null,
      "outputs": [
        {
          "output_type": "stream",
          "name": "stdout",
          "text": [
            "Impressão 1 vez(vezes)\n",
            "Impressão 2 vez(vezes)\n",
            "Impressão 3 vez(vezes)\n",
            "Impressão 4 vez(vezes)\n",
            "Impressão 5 vez(vezes)\n"
          ]
        }
      ]
    },
    {
      "cell_type": "code",
      "metadata": {
        "colab": {
          "base_uri": "https://localhost:8080/"
        },
        "id": "AafN7rnY-_70",
        "outputId": "cdddfe25-1384-4ef1-ed59-a43f9c2268eb"
      },
      "source": [
        "MAX = int(input('Quantas vezes a mensagem vai ser impressa na tela? '))\n",
        "\n",
        "for i in range(0,MAX): #i no conjunto 0,1,2...MAX\n",
        "  print(i,'ª vez passando pelo loop')\n",
        "  print('Python é legal!')"
      ],
      "execution_count": null,
      "outputs": [
        {
          "output_type": "stream",
          "name": "stdout",
          "text": [
            "Quantas vezes a mensagem vai ser impressa na tela? 1\n",
            "0 ª vez passando pelo loop\n",
            "Python é legal!\n"
          ]
        }
      ]
    },
    {
      "cell_type": "code",
      "metadata": {
        "id": "kFKBnZAq_l3q"
      },
      "source": [
        "for i in range(0,4): \n",
        "  valor = int(input('Digite um valor: '))\n",
        "  print(i + 1,')', 'O valor é igual a ', valor)"
      ],
      "execution_count": null,
      "outputs": []
    },
    {
      "cell_type": "markdown",
      "metadata": {
        "id": "76wUk9b2CAjL"
      },
      "source": [
        "### Contagem"
      ]
    },
    {
      "cell_type": "code",
      "metadata": {
        "colab": {
          "base_uri": "https://localhost:8080/"
        },
        "id": "-mCXy6pXAuAe",
        "outputId": "3171bfd7-5428-454d-a526-00ca22c593f1"
      },
      "source": [
        "# Com repetição automática e range\n",
        "# vai contar de 1 a 10, de 1 em 1\n",
        "# range tem (início, final) e também podemos um passo(de quanto emquanto ele vai contar)\n",
        "# range (inicio, fim, passo)\n",
        "# Range só funiciona com inteiros\n",
        "\n",
        "for contador in range(1, 10 + 1, 2):\n",
        "  print(contador)"
      ],
      "execution_count": null,
      "outputs": [
        {
          "output_type": "stream",
          "name": "stdout",
          "text": [
            "1\n",
            "3\n",
            "5\n",
            "7\n",
            "9\n"
          ]
        }
      ]
    },
    {
      "cell_type": "code",
      "metadata": {
        "colab": {
          "base_uri": "https://localhost:8080/"
        },
        "id": "d2HfUdBbCX5c",
        "outputId": "45d4fbee-9dc4-40d3-c0ba-3a4b2a84472a"
      },
      "source": [
        "# Com repetição condicional\n",
        "\n",
        "contador = 0 #inicialização do contador\n",
        "\n",
        "while contador <= 10:\n",
        "  contador = contador + 1\n",
        "  print(contador)"
      ],
      "execution_count": null,
      "outputs": [
        {
          "output_type": "stream",
          "name": "stdout",
          "text": [
            "1\n",
            "2\n",
            "3\n",
            "4\n",
            "5\n",
            "6\n",
            "7\n",
            "8\n",
            "9\n",
            "10\n",
            "11\n"
          ]
        }
      ]
    },
    {
      "cell_type": "code",
      "metadata": {
        "colab": {
          "base_uri": "https://localhost:8080/"
        },
        "id": "XTBERdRIESAL",
        "outputId": "d6fe4f4b-3d46-4857-c035-78d1b1f3a3ff"
      },
      "source": [
        "contador = 0 #inicialização do contador\n",
        "\n",
        "while contador <= 10:\n",
        "  print(contador)\n",
        "  contador = contador + 1"
      ],
      "execution_count": null,
      "outputs": [
        {
          "output_type": "stream",
          "name": "stdout",
          "text": [
            "0\n",
            "1\n",
            "2\n",
            "3\n",
            "4\n",
            "5\n",
            "6\n",
            "7\n",
            "8\n",
            "9\n",
            "10\n"
          ]
        }
      ]
    },
    {
      "cell_type": "code",
      "metadata": {
        "colab": {
          "base_uri": "https://localhost:8080/"
        },
        "id": "_GFs0YVsFBDc",
        "outputId": "2ee3c543-209f-421c-c059-eb129d86d819"
      },
      "source": [
        "# contagem regressiva com for\n",
        "\n",
        "for x in range(100, 0, -10):\n",
        "  print(x)"
      ],
      "execution_count": null,
      "outputs": [
        {
          "output_type": "stream",
          "name": "stdout",
          "text": [
            "100\n",
            "90\n",
            "80\n",
            "70\n",
            "60\n",
            "50\n",
            "40\n",
            "30\n",
            "20\n",
            "10\n"
          ]
        }
      ]
    },
    {
      "cell_type": "code",
      "metadata": {
        "colab": {
          "base_uri": "https://localhost:8080/"
        },
        "id": "X191XSp2IXnr",
        "outputId": "02ab7d68-0820-4209-fb97-7110ceb79fe5"
      },
      "source": [
        "# contagem regressiva com while. Cuidado!\n",
        "x = 100\n",
        "\n",
        "while x >0:\n",
        "  print(x)\n",
        "  x -= 10"
      ],
      "execution_count": null,
      "outputs": [
        {
          "output_type": "stream",
          "name": "stdout",
          "text": [
            "100\n",
            "90\n",
            "80\n",
            "70\n",
            "60\n",
            "50\n",
            "40\n",
            "30\n",
            "20\n",
            "10\n"
          ]
        }
      ]
    },
    {
      "cell_type": "markdown",
      "metadata": {
        "id": "bnrWFgKgJCBF"
      },
      "source": [
        "### Acumulação de valores\n",
        "Soma de valores"
      ]
    },
    {
      "cell_type": "code",
      "metadata": {
        "colab": {
          "base_uri": "https://localhost:8080/"
        },
        "id": "qPs7IElnIzhb",
        "outputId": "562209ce-4fcf-4d3d-b013-3e49585e1e12"
      },
      "source": [
        "# somar todos os números entre 0 e 1000\n",
        "# Passos:\n",
        "# 1. Definir uma variável para manter a acumulação dos valores, iniciando em 0 (ou outro);\n",
        "soma = 0\n",
        "\n",
        "# 2. Definir um contador para determinar um número de valores/'coisas' acumuladas;\n",
        "contador = 0\n",
        "\n",
        "# 3. Laço de repetição (condicional ou automático)\n",
        "\n",
        "while contador <= 1000:\n",
        "\n",
        "  # 4. Acumulação\n",
        "  #soma = soma + contador\n",
        "  soma += contador\n",
        "\n",
        "  # 5. Controle da repetição\n",
        "  contador += 1\n",
        "\n",
        "# 6. Apresentação do resultado\n",
        "print('soma de 0 até 1000 = ',soma)\n",
        "\n"
      ],
      "execution_count": null,
      "outputs": [
        {
          "output_type": "stream",
          "name": "stdout",
          "text": [
            "soma de 0 até 1000 =  500500\n"
          ]
        }
      ]
    },
    {
      "cell_type": "code",
      "metadata": {
        "colab": {
          "base_uri": "https://localhost:8080/"
        },
        "id": "eNIhhSMKKFxH",
        "outputId": "fa4cee35-6155-4d65-db81-1ef4d7e01cda"
      },
      "source": [
        "# somar todos os números entre 0 e 1000\n",
        "# Passos:\n",
        "# 1. Definir uma variável para manter a acumulação dos valores, iniciando em 0 (ou outro);\n",
        "soma = 0\n",
        "\n",
        "# 2. Definir um contador para determinar um número de valores/'coisas' acumuladas; Laço de repetição (automático)\n",
        "for contador in range(0,1000 +1):\n",
        "  # 3. Acumulação\n",
        "  #soma = soma + contador\n",
        "  soma += contador\n",
        "\n",
        "# 4. Apresentação do resultado\n",
        "print('soma de 0 até 1000 = ',soma)"
      ],
      "execution_count": null,
      "outputs": [
        {
          "output_type": "stream",
          "name": "stdout",
          "text": [
            "soma de 0 até 1000 =  500500\n"
          ]
        }
      ]
    },
    {
      "cell_type": "markdown",
      "metadata": {
        "id": "swyGUdlaK6m2"
      },
      "source": [
        "Exemplo de aplicação de acumulação<br>\n",
        "\n",
        "**Calcular a média de 10 valores dados pelo usuário**"
      ]
    },
    {
      "cell_type": "code",
      "metadata": {
        "colab": {
          "base_uri": "https://localhost:8080/"
        },
        "id": "feILJJNNKqxd",
        "outputId": "7ba03880-2e8b-4a3b-d5c8-6e1db4b916b9"
      },
      "source": [
        "soma = 0\n",
        "\n",
        "for contador in range(0,10):\n",
        "  valor = float(input('Digite um valor real: '))\n",
        "  soma += valor \n",
        "  media = soma/10\n",
        "\n",
        "print('A soma dos valores é: ', soma)\n",
        "print('A média dos valores é: ', media)"
      ],
      "execution_count": null,
      "outputs": [
        {
          "output_type": "stream",
          "name": "stdout",
          "text": [
            "Digite um valor real: 2.2\n",
            "Digite um valor real: 3.52\n",
            "Digite um valor real: 5.22\n",
            "Digite um valor real: 53.3\n",
            "Digite um valor real: 23.0\n",
            "Digite um valor real: 1.22\n",
            "Digite um valor real: 3.2214\n",
            "Digite um valor real: 6.541\n",
            "Digite um valor real: 2.5\n",
            "Digite um valor real: 0.8\n",
            "A soma dos valores é:  101.52239999999999\n",
            "A média dos valores é:  10.152239999999999\n"
          ]
        }
      ]
    },
    {
      "cell_type": "code",
      "metadata": {
        "colab": {
          "base_uri": "https://localhost:8080/"
        },
        "id": "hgjWURgZL8NW",
        "outputId": "546e0485-2d9a-447f-9193-ac817501bc56"
      },
      "source": [
        "# somar N números reais dados pelo usuário\n",
        "N = 4\n",
        "# 1. define uma variável para manter a acumulação (soma) iniciando em 0\n",
        "soma = 0 \n",
        "# 2. laço de repetição (automático) define um contador para ler e acumular N números\n",
        "for contador in range(0, N):\n",
        "  # 3.leitura do valor\n",
        "  valor = float(input(str(contador + 1) + \" Digite um valor real:\"))\n",
        "  # 4.acumulação\n",
        "  soma += valor\n",
        "\n",
        "# 4. apresentação do resultado\n",
        "print(\"soma dos valores = \", soma)\n",
        "print(F\"soma dos valores = {soma:.3f}\")\n",
        "media = soma / N\n",
        "print(\"media dos valores = \", media)\n",
        "print(F\"media dos valores = {media:.4f}\")"
      ],
      "execution_count": null,
      "outputs": [
        {
          "output_type": "stream",
          "name": "stdout",
          "text": [
            "1 Digite um valor real:2.0\n",
            "2 Digite um valor real:3.5\n",
            "3 Digite um valor real:4.5\n",
            "4 Digite um valor real:6.2\n",
            "soma dos valores =  16.2\n",
            "soma dos valores = 16.200\n",
            "media dos valores =  4.05\n",
            "media dos valores = 4.0500\n"
          ]
        }
      ]
    },
    {
      "cell_type": "markdown",
      "metadata": {
        "id": "Gj0e0cG2NTs_"
      },
      "source": [
        "# Decisão\n",
        "\n",
        "Habilidade de selecionar quais (sequências de) comandos que serão executados pelo programa.<br>\n",
        "Corresponde a uma decisão do que será feito, isto é, a escolha de uma ação/conjunto de ações dentre várias alternativas.\n"
      ]
    },
    {
      "cell_type": "code",
      "metadata": {
        "colab": {
          "base_uri": "https://localhost:8080/"
        },
        "id": "xlZK6HwvNU1Z",
        "outputId": "f43a2cb7-e4f5-4b99-bb43-001f825d9211"
      },
      "source": [
        "# entrada simples de valor real\n",
        "media_final = float(input('Digite a média final obtida na disciplina '))"
      ],
      "execution_count": null,
      "outputs": [
        {
          "name": "stdout",
          "output_type": "stream",
          "text": [
            "Digite a média final obtida na disciplina 4\n"
          ]
        }
      ]
    },
    {
      "cell_type": "code",
      "metadata": {
        "colab": {
          "base_uri": "https://localhost:8080/"
        },
        "id": "sXaWVLs0OYDc",
        "outputId": "e0a0f471-a774-4f11-9d48-17dd4f48194e"
      },
      "source": [
        "media_final >= 6.0"
      ],
      "execution_count": null,
      "outputs": [
        {
          "output_type": "execute_result",
          "data": {
            "text/plain": [
              "False"
            ]
          },
          "metadata": {},
          "execution_count": 49
        }
      ]
    },
    {
      "cell_type": "code",
      "metadata": {
        "colab": {
          "base_uri": "https://localhost:8080/"
        },
        "id": "EBtVDvDEN2Ab",
        "outputId": "c4008591-70fe-4dd8-ed66-90e08a3d5a1b"
      },
      "source": [
        "# comando if (se) permite escolher uma ação entre duas\n",
        "\n",
        "if media_final >= 6.0:\n",
        "  # quando a condição é verdadeira\n",
        "  print('Estudante está APROVADO!')\n",
        "else:\n",
        "  # quando condição é falsa\n",
        "  print('Estudante está REPROVADO!')"
      ],
      "execution_count": null,
      "outputs": [
        {
          "output_type": "stream",
          "name": "stdout",
          "text": [
            "Estudante está REPROVADO\n"
          ]
        }
      ]
    },
    {
      "cell_type": "code",
      "metadata": {
        "id": "AQj5NkoFOeKJ"
      },
      "source": [
        ""
      ],
      "execution_count": null,
      "outputs": []
    }
  ]
}