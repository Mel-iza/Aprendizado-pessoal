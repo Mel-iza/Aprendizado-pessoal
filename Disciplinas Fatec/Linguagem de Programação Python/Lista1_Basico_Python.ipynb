{
  "nbformat": 4,
  "nbformat_minor": 0,
  "metadata": {
    "colab": {
      "name": "Lista1 Basico - Python.ipynb",
      "provenance": [],
      "collapsed_sections": []
    },
    "kernelspec": {
      "name": "python3",
      "display_name": "Python 3"
    },
    "language_info": {
      "name": "python"
    }
  },
  "cells": [
    {
      "cell_type": "markdown",
      "source": [
        "# Lista de Exercícios 1 - Básico\n",
        "Disciplina Linguagens de Programação - Python"
      ],
      "metadata": {
        "id": "w29ukrqi3ipb"
      }
    },
    {
      "cell_type": "markdown",
      "source": [
        "Esta lista de exercícios tem estes objetivos: <br>\n",
        "(i) fixação dos conceitos associados à entrada e saída; <br>\n",
        "(ii) *definição de variáveis e realização de cálculos com expressões; <br>\n",
        "(iii) *sequenciação de comandos para resolução de problemas."
      ],
      "metadata": {
        "id": "ioAHx8Zw3lvR"
      }
    },
    {
      "cell_type": "markdown",
      "source": [
        "1) Construa um programa Python que defina variáveis para armazenar seu nome, sua idade e a cidade onde mora. Os valores das variáveis podem ser diretamente indicados (não é necessário realizada a entrada destes dados). Imprima no console o conteúdo destas variáveis."
      ],
      "metadata": {
        "id": "piJMdgRP33P_"
      }
    },
    {
      "cell_type": "code",
      "execution_count": 1,
      "metadata": {
        "colab": {
          "base_uri": "https://localhost:8080/"
        },
        "id": "xKlU8PqL3h7M",
        "outputId": "98a4ce99-ace8-41ea-e7cb-a54ada6957db"
      },
      "outputs": [
        {
          "output_type": "stream",
          "name": "stdout",
          "text": [
            "Pessoa 26 São Paulo\n"
          ]
        }
      ],
      "source": [
        "nome = \"Pessoa\"\n",
        "idade = 26\n",
        "cidade = \"São Paulo\"\n",
        "\n",
        "print(nome, idade, cidade)"
      ]
    },
    {
      "cell_type": "markdown",
      "source": [
        "2) Modifique o programa (1) para que sejam lidos seu nome, sua idade e a cidade onde mora. Imprima no console o conteúdo destas variáveis."
      ],
      "metadata": {
        "id": "c2UatdxN4Ijh"
      }
    },
    {
      "cell_type": "code",
      "source": [
        "nome = input(\"Digite seu nome \")\n",
        "idade = input(\"Digite sua idade \")\n",
        "cidade = input(\"Digite sua cidade \")\n",
        "\n",
        "print('Nome:', nome,\n",
        "      'idade:', idade,\n",
        "      'cidade: ', cidade)"
      ],
      "metadata": {
        "colab": {
          "base_uri": "https://localhost:8080/"
        },
        "id": "1n1ZnOM64FDM",
        "outputId": "64c55f56-81f0-4bc2-b9b6-032b87658f56"
      },
      "execution_count": 3,
      "outputs": [
        {
          "output_type": "stream",
          "name": "stdout",
          "text": [
            "Digite seu nome A\n",
            "Digite sua idade 30\n",
            "Digite sua cidade Burenia\n",
            "Nome: A idade: 30 cidade:  Burenia\n"
          ]
        }
      ]
    },
    {
      "cell_type": "markdown",
      "source": [
        "3) Construa um programa Python receba (leia) dois números inteiros x e y, apresentando sua soma x+y, subtração x-y, multiplicação xy, divisão x/y, divisão inteira x//y e exponenciação x*y. Ou seja, imprimindo os valores lidos e os resultados destas operações no console."
      ],
      "metadata": {
        "id": "Y5XYNb0F40Vz"
      }
    },
    {
      "cell_type": "code",
      "source": [
        "x = int(input(\"Digite um numero inteiro \"))\n",
        "y = int(input(\"Digite outro número inteiro \"))\n",
        "\n",
        "soma = (x + y)\n",
        "subtracao = (x - y) \n",
        "multiplicacao = (x * y)\n",
        "divisao = (x / y) \n",
        "divisao_int = (x // y) \n",
        "exponenciacao = (x ** y)"
      ],
      "metadata": {
        "colab": {
          "base_uri": "https://localhost:8080/"
        },
        "id": "mRpkPTPH41vL",
        "outputId": "a79db79f-ada4-42bd-e6c1-592793db8222"
      },
      "execution_count": 4,
      "outputs": [
        {
          "name": "stdout",
          "output_type": "stream",
          "text": [
            "Digite um numero inteiro 2\n",
            "Digite outro número inteiro 5\n"
          ]
        }
      ]
    },
    {
      "cell_type": "code",
      "source": [
        "print(\"As operações básicas entre o número \", x , \" e o número \", y ,\" são:\")\n",
        "print(x, \" + \", y ,\" = \", soma)\n",
        "print(x, \" - \" , y , \" = \", subtracao)\n",
        "print(x, \" x \" , y , \" = \", multiplicacao)\n",
        "print(x, \" / \" , y , \" = \", divisao)\n",
        "print(x, \" / \" , y , \" = \", divisao_int)\n",
        "print(x, \" elevado a\" , y , \" = \", exponenciacao)"
      ],
      "metadata": {
        "colab": {
          "base_uri": "https://localhost:8080/"
        },
        "id": "o3N9mcNI5Ohc",
        "outputId": "b8841c3a-df78-4d42-f3f7-e03a556bfa78"
      },
      "execution_count": 5,
      "outputs": [
        {
          "output_type": "stream",
          "name": "stdout",
          "text": [
            "As operações básicas entre o número  2  e o número  5  são:\n",
            "2  +  5  =  7\n",
            "2  -  5  =  -3\n",
            "2  x  5  =  10\n",
            "2  /  5  =  0.4\n",
            "2  /  5  =  0\n",
            "2  elevado a 5  =  32\n"
          ]
        }
      ]
    },
    {
      "cell_type": "markdown",
      "source": [
        "4) Escreva um programa que leia um valor numérico real que representa uma temperatura na escala Celsius. O programa deve converter tal valor em seu equivalente na escala Fahrenheit. O resultado deve ser impresso no console. fahrenheit = (celsius * 9)/5 + 32."
      ],
      "metadata": {
        "id": "vA14sFs642Qq"
      }
    },
    {
      "cell_type": "code",
      "source": [
        "celsius = float(input(\"Digite uma temperaura em graus Celsius \")) \n",
        "\n",
        "fahrenheit = ((celsius * 9)/5 + 32)\n",
        "\n",
        "print(\"A temperatura de \", celsius, \"° em Fahrenheit é igual a \", fahrenheit)"
      ],
      "metadata": {
        "colab": {
          "base_uri": "https://localhost:8080/"
        },
        "id": "NK9cSqpn44pr",
        "outputId": "988d0484-b546-4341-f616-a11aef7c0c99"
      },
      "execution_count": 9,
      "outputs": [
        {
          "output_type": "stream",
          "name": "stdout",
          "text": [
            "Digite uma temperaura em graus Celsius 37.5\n",
            "A temperatura de  37.5 ° em Fahrenheit é igual a  99.5\n"
          ]
        }
      ]
    },
    {
      "cell_type": "markdown",
      "source": [
        "5) Escreva um programa que leia um valor numérico real que representa uma distância em milhas. O programa deve converter tal valor em seu equivalente em quilômetros, sabendo que 1 mi = 1,60934 km. O resultado deve ser impresso no console."
      ],
      "metadata": {
        "id": "XUSKxjNK45Op"
      }
    },
    {
      "cell_type": "code",
      "source": [
        " # Entrada de dados \n",
        "milhas = float(input(\"Digite uma distância em milhas \"))\n",
        "\n",
        " # Processamento \n",
        "kilometros = (milhas * 1.60934)\n",
        "\n",
        "# Saída de dados\n",
        "print (milhas, \"milhas é igual a\", kilometros, \"kilômetros\")"
      ],
      "metadata": {
        "colab": {
          "base_uri": "https://localhost:8080/"
        },
        "id": "Sx4_hiO647bT",
        "outputId": "9e6f5dfb-98fa-4447-b99d-096f92825f68"
      },
      "execution_count": 10,
      "outputs": [
        {
          "output_type": "stream",
          "name": "stdout",
          "text": [
            "Digite uma distância em milhas 120\n",
            "120.0 milhas é igual a 193.1208 kilômetros\n"
          ]
        }
      ]
    },
    {
      "cell_type": "markdown",
      "source": [
        "6) Construa um programa que receba (leia) três números reais, considerando que estes três valores são os coeficientes a, b e c de uma equação de 2º grau. Calcule o delta (=b² - 4ac) e exiba seu valor no console."
      ],
      "metadata": {
        "id": "dnDOShXY472p"
      }
    },
    {
      "cell_type": "code",
      "source": [
        "# Entrada de dados\n",
        "a = float(input(\"Digite o primeiro coeficiente da equação: \"))\n",
        "b= float(input(\"Digite o segundo coeficiente da equação: \"))\n",
        "c = float(input(\"Digite o terceiro coeficiente da equação: \"))\n",
        "\n",
        "delta = ((b ** 2) - 4 * a * c)\n",
        "\n",
        "print(\"O valor de delta é\", delta)"
      ],
      "metadata": {
        "colab": {
          "base_uri": "https://localhost:8080/"
        },
        "id": "XRmvmRj-5qjK",
        "outputId": "6798e157-aef2-45d2-a41d-70e7f52d52ab"
      },
      "execution_count": 12,
      "outputs": [
        {
          "output_type": "stream",
          "name": "stdout",
          "text": [
            "Digite o primeiro coeficiente da equação: 2\n",
            "Digite o segundo coeficiente da equação: -1\n",
            "Digite o terceiro coeficiente da equação: 6\n",
            "O valor de delta é -47.0\n"
          ]
        }
      ]
    },
    {
      "cell_type": "markdown",
      "source": [
        "7) Escreva um programa que leia o preço do litro do etanol e, também, o preço do litro da gasolina comum. Exiba, no console, quanto seria gasto para encher um tanque de 50 litros com cada combustível; qual o valor relativo do etanol em relação à gasolina (precoEtanol / precoGasolina); e quantos litros de etanol podem ser comprados com o preço de um litro de gasolina comum."
      ],
      "metadata": {
        "id": "2hoRxZO14-ku"
      }
    },
    {
      "cell_type": "code",
      "source": [
        "etanol = float(input(\"Qual o preço do litro do etanol? \"))\n",
        "gasolina_comum = float(input(\"Qual o preço do litro da gasolina? \"))\n",
        "\n",
        "preco_et = etanol * 50\n",
        "preco_gas = gasolina_comum * 50\n",
        "\n",
        "print(\"Para encher um tanque de 50 litros com etanol você iria gastar R$\", \n",
        "                                                                  preco_et)\n",
        "print(\"Para encher um tanque de 50 litros com gasolina você iria gastar R$\", \n",
        "                                                                  preco_gas)\n",
        "\n",
        "print(\"O valor relativo do etanol em relação à gasolina é\", preco_et/preco_gas)"
      ],
      "metadata": {
        "colab": {
          "base_uri": "https://localhost:8080/"
        },
        "id": "I6FyKGO05A8a",
        "outputId": "867742d6-b373-4384-87f2-cd4e586941dd"
      },
      "execution_count": 16,
      "outputs": [
        {
          "output_type": "stream",
          "name": "stdout",
          "text": [
            "Qual o preço do litro do etanol? 7.89\n",
            "Qual o preço do litro da gasolina? 8.54\n",
            "Para encher um tanque de 50 litros com etanol você iria gastar R$ 394.5\n",
            "Para encher um tanque de 50 litros com gasolina você iria gastar R$ 426.99999999999994\n",
            "O valor relativo do etanol em relação à gasolina é 0.9238875878220142\n"
          ]
        }
      ]
    },
    {
      "cell_type": "markdown",
      "source": [
        "8) Pretendemos revestir um salão retangular com um piso cerâmico, cujas peças têm o mesmo tamanho e que podem ser assentadas lado a lado (sem espaço entre as peças). Desejamos saber quantas peças de piso deverão ser compradas. Escreva um programa que leia as dimensões comprimento e largura do salão retangular (valores reais expressos em metros); e o comprimento e largura da cerâmica a ser empregada (valores inteiros em milimetros), informando o número de peças requeridas para cobrir o comprimento do salão, o número de peças requeridas para cobrir a largura do salão; e o número total de peças necessárias."
      ],
      "metadata": {
        "id": "2eni9tsb5BY8"
      }
    },
    {
      "cell_type": "code",
      "source": [
        "comprimento_salao = float(input(\"Digite o comprimento do salão retangular \"))\n",
        "largura_salao = float(input(\"Digite a largura do salão retangular \"))\n",
        "\n",
        "comprimento_ceramica = float(input(\"Digite o comprimento da cerâmica - em milímetros \"))\n",
        "largura_ceramica = float(input(\"Digite a largura da cerâmica - em milímetros \"))\n",
        "\n",
        "largura_pecas = int((1000 * largura_salao) // largura_ceramica) + 1\n",
        "comprimento_pecas = int(((1000 * comprimento_salao) // comprimento_ceramica) + 1)\n",
        "\n",
        "total_pecas = largura_pecas * comprimento_pecas\n",
        "\n",
        "print('O número de peças requeridas para cobrir o comprimento do salão é de ',\n",
        "      total_pecas)\n",
        "print('O número de peças para cobrir a largura do salão é de',\n",
        "      largura_pecas)\n",
        "print('O número de peças para cobrir o comprimento do salão é de',\n",
        "      comprimento_pecas)"
      ],
      "metadata": {
        "colab": {
          "base_uri": "https://localhost:8080/"
        },
        "id": "0NBmxOju5EHj",
        "outputId": "894ec9ac-2fbb-4995-9b77-04bf08369d9a"
      },
      "execution_count": 22,
      "outputs": [
        {
          "output_type": "stream",
          "name": "stdout",
          "text": [
            "Digite o comprimento do salão retangular 5\n",
            "Digite a largura do salão retangular 5\n",
            "Digite o comprimento da cerâmica - em milímetros 2\n",
            "Digite a largura da cerâmica - em milímetros 3\n",
            "O número de peças requeridas para cobrir o comprimento do salão é de  4169167\n",
            "O número de peças para cobrir a largura do salão é de 1667\n",
            "O número de peças para cobrir o comprimento do salão é de 2501\n"
          ]
        }
      ]
    },
    {
      "cell_type": "code",
      "source": [
        ""
      ],
      "metadata": {
        "id": "iiZS_x-C8Kz7"
      },
      "execution_count": null,
      "outputs": []
    }
  ]
}